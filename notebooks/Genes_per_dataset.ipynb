{
 "cells": [
  {
   "cell_type": "markdown",
   "metadata": {},
   "source": [
    "## Measuring the number of promoters identified using TSRchtect, and the total gene coverage across the 4 plant experiments (2 species) "
   ]
  },
  {
   "cell_type": "code",
   "execution_count": 2,
   "metadata": {},
   "outputs": [],
   "source": [
    "library(ggplot2)"
   ]
  },
  {
   "cell_type": "code",
   "execution_count": 3,
   "metadata": {
    "scrolled": true
   },
   "outputs": [
    {
     "name": "stderr",
     "output_type": "stream",
     "text": [
      "Loading required package: stats4\n",
      "Loading required package: BiocGenerics\n",
      "Loading required package: parallel\n",
      "\n",
      "Attaching package: ‘BiocGenerics’\n",
      "\n",
      "The following objects are masked from ‘package:parallel’:\n",
      "\n",
      "    clusterApply, clusterApplyLB, clusterCall, clusterEvalQ,\n",
      "    clusterExport, clusterMap, parApply, parCapply, parLapply,\n",
      "    parLapplyLB, parRapply, parSapply, parSapplyLB\n",
      "\n",
      "The following objects are masked from ‘package:stats’:\n",
      "\n",
      "    IQR, mad, sd, var, xtabs\n",
      "\n",
      "The following objects are masked from ‘package:base’:\n",
      "\n",
      "    anyDuplicated, append, as.data.frame, cbind, colMeans, colnames,\n",
      "    colSums, do.call, duplicated, eval, evalq, Filter, Find, get, grep,\n",
      "    grepl, intersect, is.unsorted, lapply, lengths, Map, mapply, match,\n",
      "    mget, order, paste, pmax, pmax.int, pmin, pmin.int, Position, rank,\n",
      "    rbind, Reduce, rowMeans, rownames, rowSums, sapply, setdiff, sort,\n",
      "    table, tapply, union, unique, unsplit, which, which.max, which.min\n",
      "\n",
      "Loading required package: S4Vectors\n",
      "\n",
      "Attaching package: ‘S4Vectors’\n",
      "\n",
      "The following object is masked from ‘package:base’:\n",
      "\n",
      "    expand.grid\n",
      "\n",
      "Loading required package: IRanges\n",
      "Loading required package: GenomeInfoDb\n"
     ]
    }
   ],
   "source": [
    "library(GenomicRanges)"
   ]
  },
  {
   "cell_type": "code",
   "execution_count": 4,
   "metadata": {},
   "outputs": [],
   "source": [
    "library(reshape2)"
   ]
  },
  {
   "cell_type": "code",
   "execution_count": 5,
   "metadata": {},
   "outputs": [],
   "source": [
    "setwd(\"/scratch/rtraborn/tsrchitect-figures/figures\")"
   ]
  },
  {
   "cell_type": "code",
   "execution_count": 6,
   "metadata": {},
   "outputs": [],
   "source": [
    "AtEST.file <- \"/scratch/rtraborn/tsrchitect-figures/output_files/AtEST_closest_gene_i.txt\""
   ]
  },
  {
   "cell_type": "code",
   "execution_count": 7,
   "metadata": {},
   "outputs": [],
   "source": [
    "AtESTdist <- read.table(file=AtEST.file, header=FALSE)"
   ]
  },
  {
   "cell_type": "code",
   "execution_count": 8,
   "metadata": {},
   "outputs": [],
   "source": [
    "ZmEST.file <- \"/scratch/rtraborn/tsrchitect-figures/output_files/ZmEST_closest_gene.txt\""
   ]
  },
  {
   "cell_type": "code",
   "execution_count": 9,
   "metadata": {},
   "outputs": [
    {
     "name": "stderr",
     "output_type": "stream",
     "text": [
      "Warning message in scan(file = file, what = what, sep = sep, quote = quote, dec = dec, :\n",
      "“EOF within quoted string”Warning message in scan(file = file, what = what, sep = sep, quote = quote, dec = dec, :\n",
      "“number of items read is not a multiple of the number of columns”"
     ]
    }
   ],
   "source": [
    "ZmESTdist <- read.table(file=ZmEST.file, sep=\"\\t\",header=FALSE)"
   ]
  },
  {
   "cell_type": "code",
   "execution_count": 10,
   "metadata": {},
   "outputs": [
    {
     "data": {
      "text/html": [
       "<table>\n",
       "<thead><tr><th scope=col>V1</th><th scope=col>V2</th><th scope=col>V3</th><th scope=col>V4</th><th scope=col>V5</th><th scope=col>V6</th><th scope=col>V7</th><th scope=col>V8</th><th scope=col>V9</th><th scope=col>V10</th><th scope=col>V11</th><th scope=col>V12</th><th scope=col>V13</th><th scope=col>V14</th><th scope=col>V15</th><th scope=col>V16</th><th scope=col>V17</th></tr></thead>\n",
       "<tbody>\n",
       "\t<tr><td>Chr1                                                </td><td>33113                                               </td><td>33114                                               </td><td>Chr1.33114.33114.+                                  </td><td> 2.00                                               </td><td>+                                                   </td><td>Chr1                                                </td><td>44676                                               </td><td>44787                                               </td><td>AT1G01073                                           </td><td>.                                                   </td><td>+                                                   </td><td>TAIR10                                              </td><td>gene                                                </td><td>.                                                   </td><td>ID=AT1G01073;Note=protein_coding_gene;Name=AT1G01073</td><td>11563                                               </td></tr>\n",
       "\t<tr><td>Chr1                                                </td><td>33147                                               </td><td>33148                                               </td><td>Chr1.33148.33148.+                                  </td><td> 2.00                                               </td><td>+                                                   </td><td>Chr1                                                </td><td>44676                                               </td><td>44787                                               </td><td>AT1G01073                                           </td><td>.                                                   </td><td>+                                                   </td><td>TAIR10                                              </td><td>gene                                                </td><td>.                                                   </td><td>ID=AT1G01073;Note=protein_coding_gene;Name=AT1G01073</td><td>11529                                               </td></tr>\n",
       "\t<tr><td>Chr1                                                </td><td>46816                                               </td><td>46817                                               </td><td>Chr1.46817.46817.+                                  </td><td> 2.00                                               </td><td>+                                                   </td><td>Chr1                                                </td><td>52238                                               </td><td>54692                                               </td><td>AT1G01110                                           </td><td>.                                                   </td><td>+                                                   </td><td>TAIR10                                              </td><td>gene                                                </td><td>.                                                   </td><td>ID=AT1G01110;Note=protein_coding_gene;Name=AT1G01110</td><td> 5422                                               </td></tr>\n",
       "\t<tr><td>Chr1                                                </td><td>49270                                               </td><td>49283                                               </td><td>Chr1.49271.49283.+                                  </td><td> 0.02                                               </td><td>+                                                   </td><td>Chr1                                                </td><td>52238                                               </td><td>54692                                               </td><td>AT1G01110                                           </td><td>.                                                   </td><td>+                                                   </td><td>TAIR10                                              </td><td>gene                                                </td><td>.                                                   </td><td>ID=AT1G01110;Note=protein_coding_gene;Name=AT1G01110</td><td> 2956                                               </td></tr>\n",
       "\t<tr><td>Chr1                                                </td><td>50523                                               </td><td>50524                                               </td><td>Chr1.50524.50524.+                                  </td><td> 2.00                                               </td><td>+                                                   </td><td>Chr1                                                </td><td>52238                                               </td><td>54692                                               </td><td>AT1G01110                                           </td><td>.                                                   </td><td>+                                                   </td><td>TAIR10                                              </td><td>gene                                                </td><td>.                                                   </td><td>ID=AT1G01110;Note=protein_coding_gene;Name=AT1G01110</td><td> 1715                                               </td></tr>\n",
       "\t<tr><td>Chr1                                                </td><td>51176                                               </td><td>51191                                               </td><td>Chr1.51177.51191.+                                  </td><td>-0.74                                               </td><td>+                                                   </td><td>Chr1                                                </td><td>52238                                               </td><td>54692                                               </td><td>AT1G01110                                           </td><td>.                                                   </td><td>+                                                   </td><td>TAIR10                                              </td><td>gene                                                </td><td>.                                                   </td><td>ID=AT1G01110;Note=protein_coding_gene;Name=AT1G01110</td><td> 1048                                               </td></tr>\n",
       "</tbody>\n",
       "</table>\n"
      ],
      "text/latex": [
       "\\begin{tabular}{r|lllllllllllllllll}\n",
       " V1 & V2 & V3 & V4 & V5 & V6 & V7 & V8 & V9 & V10 & V11 & V12 & V13 & V14 & V15 & V16 & V17\\\\\n",
       "\\hline\n",
       "\t Chr1                                                     & 33113                                                    & 33114                                                    & Chr1.33114.33114.+                                       &  2.00                                                    & +                                                        & Chr1                                                     & 44676                                                    & 44787                                                    & AT1G01073                                                & .                                                        & +                                                        & TAIR10                                                   & gene                                                     & .                                                        & ID=AT1G01073;Note=protein\\_coding\\_gene;Name=AT1G01073 & 11563                                                   \\\\\n",
       "\t Chr1                                                     & 33147                                                    & 33148                                                    & Chr1.33148.33148.+                                       &  2.00                                                    & +                                                        & Chr1                                                     & 44676                                                    & 44787                                                    & AT1G01073                                                & .                                                        & +                                                        & TAIR10                                                   & gene                                                     & .                                                        & ID=AT1G01073;Note=protein\\_coding\\_gene;Name=AT1G01073 & 11529                                                   \\\\\n",
       "\t Chr1                                                     & 46816                                                    & 46817                                                    & Chr1.46817.46817.+                                       &  2.00                                                    & +                                                        & Chr1                                                     & 52238                                                    & 54692                                                    & AT1G01110                                                & .                                                        & +                                                        & TAIR10                                                   & gene                                                     & .                                                        & ID=AT1G01110;Note=protein\\_coding\\_gene;Name=AT1G01110 &  5422                                                   \\\\\n",
       "\t Chr1                                                     & 49270                                                    & 49283                                                    & Chr1.49271.49283.+                                       &  0.02                                                    & +                                                        & Chr1                                                     & 52238                                                    & 54692                                                    & AT1G01110                                                & .                                                        & +                                                        & TAIR10                                                   & gene                                                     & .                                                        & ID=AT1G01110;Note=protein\\_coding\\_gene;Name=AT1G01110 &  2956                                                   \\\\\n",
       "\t Chr1                                                     & 50523                                                    & 50524                                                    & Chr1.50524.50524.+                                       &  2.00                                                    & +                                                        & Chr1                                                     & 52238                                                    & 54692                                                    & AT1G01110                                                & .                                                        & +                                                        & TAIR10                                                   & gene                                                     & .                                                        & ID=AT1G01110;Note=protein\\_coding\\_gene;Name=AT1G01110 &  1715                                                   \\\\\n",
       "\t Chr1                                                     & 51176                                                    & 51191                                                    & Chr1.51177.51191.+                                       & -0.74                                                    & +                                                        & Chr1                                                     & 52238                                                    & 54692                                                    & AT1G01110                                                & .                                                        & +                                                        & TAIR10                                                   & gene                                                     & .                                                        & ID=AT1G01110;Note=protein\\_coding\\_gene;Name=AT1G01110 &  1048                                                   \\\\\n",
       "\\end{tabular}\n"
      ],
      "text/markdown": [
       "\n",
       "V1 | V2 | V3 | V4 | V5 | V6 | V7 | V8 | V9 | V10 | V11 | V12 | V13 | V14 | V15 | V16 | V17 | \n",
       "|---|---|---|---|---|---|\n",
       "| Chr1                                                 | 33113                                                | 33114                                                | Chr1.33114.33114.+                                   |  2.00                                                | +                                                    | Chr1                                                 | 44676                                                | 44787                                                | AT1G01073                                            | .                                                    | +                                                    | TAIR10                                               | gene                                                 | .                                                    | ID=AT1G01073;Note=protein_coding_gene;Name=AT1G01073 | 11563                                                | \n",
       "| Chr1                                                 | 33147                                                | 33148                                                | Chr1.33148.33148.+                                   |  2.00                                                | +                                                    | Chr1                                                 | 44676                                                | 44787                                                | AT1G01073                                            | .                                                    | +                                                    | TAIR10                                               | gene                                                 | .                                                    | ID=AT1G01073;Note=protein_coding_gene;Name=AT1G01073 | 11529                                                | \n",
       "| Chr1                                                 | 46816                                                | 46817                                                | Chr1.46817.46817.+                                   |  2.00                                                | +                                                    | Chr1                                                 | 52238                                                | 54692                                                | AT1G01110                                            | .                                                    | +                                                    | TAIR10                                               | gene                                                 | .                                                    | ID=AT1G01110;Note=protein_coding_gene;Name=AT1G01110 |  5422                                                | \n",
       "| Chr1                                                 | 49270                                                | 49283                                                | Chr1.49271.49283.+                                   |  0.02                                                | +                                                    | Chr1                                                 | 52238                                                | 54692                                                | AT1G01110                                            | .                                                    | +                                                    | TAIR10                                               | gene                                                 | .                                                    | ID=AT1G01110;Note=protein_coding_gene;Name=AT1G01110 |  2956                                                | \n",
       "| Chr1                                                 | 50523                                                | 50524                                                | Chr1.50524.50524.+                                   |  2.00                                                | +                                                    | Chr1                                                 | 52238                                                | 54692                                                | AT1G01110                                            | .                                                    | +                                                    | TAIR10                                               | gene                                                 | .                                                    | ID=AT1G01110;Note=protein_coding_gene;Name=AT1G01110 |  1715                                                | \n",
       "| Chr1                                                 | 51176                                                | 51191                                                | Chr1.51177.51191.+                                   | -0.74                                                | +                                                    | Chr1                                                 | 52238                                                | 54692                                                | AT1G01110                                            | .                                                    | +                                                    | TAIR10                                               | gene                                                 | .                                                    | ID=AT1G01110;Note=protein_coding_gene;Name=AT1G01110 |  1048                                                | \n",
       "\n",
       "\n"
      ],
      "text/plain": [
       "  V1   V2    V3    V4                 V5    V6 V7   V8    V9    V10       V11\n",
       "1 Chr1 33113 33114 Chr1.33114.33114.+  2.00 +  Chr1 44676 44787 AT1G01073 .  \n",
       "2 Chr1 33147 33148 Chr1.33148.33148.+  2.00 +  Chr1 44676 44787 AT1G01073 .  \n",
       "3 Chr1 46816 46817 Chr1.46817.46817.+  2.00 +  Chr1 52238 54692 AT1G01110 .  \n",
       "4 Chr1 49270 49283 Chr1.49271.49283.+  0.02 +  Chr1 52238 54692 AT1G01110 .  \n",
       "5 Chr1 50523 50524 Chr1.50524.50524.+  2.00 +  Chr1 52238 54692 AT1G01110 .  \n",
       "6 Chr1 51176 51191 Chr1.51177.51191.+ -0.74 +  Chr1 52238 54692 AT1G01110 .  \n",
       "  V12 V13    V14  V15 V16                                                 \n",
       "1 +   TAIR10 gene .   ID=AT1G01073;Note=protein_coding_gene;Name=AT1G01073\n",
       "2 +   TAIR10 gene .   ID=AT1G01073;Note=protein_coding_gene;Name=AT1G01073\n",
       "3 +   TAIR10 gene .   ID=AT1G01110;Note=protein_coding_gene;Name=AT1G01110\n",
       "4 +   TAIR10 gene .   ID=AT1G01110;Note=protein_coding_gene;Name=AT1G01110\n",
       "5 +   TAIR10 gene .   ID=AT1G01110;Note=protein_coding_gene;Name=AT1G01110\n",
       "6 +   TAIR10 gene .   ID=AT1G01110;Note=protein_coding_gene;Name=AT1G01110\n",
       "  V17  \n",
       "1 11563\n",
       "2 11529\n",
       "3  5422\n",
       "4  2956\n",
       "5  1715\n",
       "6  1048"
      ]
     },
     "metadata": {},
     "output_type": "display_data"
    }
   ],
   "source": [
    "head(AtESTdist)"
   ]
  },
  {
   "cell_type": "code",
   "execution_count": 11,
   "metadata": {},
   "outputs": [
    {
     "data": {
      "text/html": [
       "<table>\n",
       "<thead><tr><th scope=col>V1</th><th scope=col>V2</th><th scope=col>V3</th><th scope=col>V4</th><th scope=col>V5</th><th scope=col>V6</th><th scope=col>V7</th><th scope=col>V8</th><th scope=col>V9</th><th scope=col>V10</th><th scope=col>V11</th><th scope=col>V12</th><th scope=col>V13</th><th scope=col>V14</th><th scope=col>V15</th><th scope=col>V16</th><th scope=col>V17</th></tr></thead>\n",
       "<tbody>\n",
       "\t<tr><td>1                                                                                                                                                                                                   </td><td>  9627                                                                                                                                                                                              </td><td>  9628                                                                                                                                                                                              </td><td>1.9628.9628.+                                                                                                                                                                                       </td><td>2                                                                                                                                                                                                   </td><td>+                                                                                                                                                                                                   </td><td>1                                                                                                                                                                                                   </td><td>136306                                                                                                                                                                                              </td><td>138929                                                                                                                                                                                              </td><td>gene:GRMZM2G093399                                                                                                                                                                                  </td><td>.                                                                                                                                                                                                   </td><td>+                                                                                                                                                                                                   </td><td>ensembl                                                                                                                                                                                             </td><td>gene                                                                                                                                                                                                </td><td>.                                                                                                                                                                                                   </td><td>ID=gene:GRMZM2G093399;assembly_name=AGPv3;biotype=protein_coding;logic_name=genebuilder;version=1                                                                                                   </td><td>126679                                                                                                                                                                                              </td></tr>\n",
       "\t<tr><td>1                                                                                                                                                                                                   </td><td> 60112                                                                                                                                                                                              </td><td> 60113                                                                                                                                                                                              </td><td>1.60113.60113.+                                                                                                                                                                                     </td><td>2                                                                                                                                                                                                   </td><td>+                                                                                                                                                                                                   </td><td>1                                                                                                                                                                                                   </td><td>136306                                                                                                                                                                                              </td><td>138929                                                                                                                                                                                              </td><td>gene:GRMZM2G093399                                                                                                                                                                                  </td><td>.                                                                                                                                                                                                   </td><td>+                                                                                                                                                                                                   </td><td>ensembl                                                                                                                                                                                             </td><td>gene                                                                                                                                                                                                </td><td>.                                                                                                                                                                                                   </td><td>ID=gene:GRMZM2G093399;assembly_name=AGPv3;biotype=protein_coding;logic_name=genebuilder;version=1                                                                                                   </td><td> 76194                                                                                                                                                                                              </td></tr>\n",
       "\t<tr><td>1                                                                                                                                                                                                   </td><td>260376                                                                                                                                                                                              </td><td>260377                                                                                                                                                                                              </td><td>1.260377.260377.+                                                                                                                                                                                   </td><td>2                                                                                                                                                                                                   </td><td>+                                                                                                                                                                                                   </td><td>1                                                                                                                                                                                                   </td><td>272524                                                                                                                                                                                              </td><td>274767                                                                                                                                                                                              </td><td>gene:GRMZM2G023863                                                                                                                                                                                  </td><td>.                                                                                                                                                                                                   </td><td>+                                                                                                                                                                                                   </td><td>ensembl                                                                                                                                                                                             </td><td>gene                                                                                                                                                                                                </td><td>.                                                                                                                                                                                                   </td><td>ID=gene:GRMZM2G023863;assembly_name=AGPv3;biotype=protein_coding;logic_name=genebuilder;version=2                                                                                                   </td><td> 12148                                                                                                                                                                                              </td></tr>\n",
       "\t<tr><td>1                                                                                                                                                                                                   </td><td>367700                                                                                                                                                                                              </td><td>367701                                                                                                                                                                                              </td><td>1.367701.367701.+                                                                                                                                                                                   </td><td>2                                                                                                                                                                                                   </td><td>+                                                                                                                                                                                                   </td><td>1                                                                                                                                                                                                   </td><td>372537                                                                                                                                                                                              </td><td>374866                                                                                                                                                                                              </td><td>gene:GRMZM2G137697                                                                                                                                                                                  </td><td>.                                                                                                                                                                                                   </td><td>+                                                                                                                                                                                                   </td><td>ensembl                                                                                                                                                                                             </td><td>gene                                                                                                                                                                                                </td><td>.                                                                                                                                                                                                   </td><td>ID=gene:GRMZM2G137697;assembly_name=AGPv3;biotype=protein_coding;description=30S ribosomal protein S15%2C chloroplastic  [Source:UniProtKB/Swiss-Prot%3BAcc:P17703];logic_name=genebuilder;version=1</td><td>  4837                                                                                                                                                                                              </td></tr>\n",
       "\t<tr><td>1                                                                                                                                                                                                   </td><td>368198                                                                                                                                                                                              </td><td>368199                                                                                                                                                                                              </td><td>1.368199.368199.+                                                                                                                                                                                   </td><td>2                                                                                                                                                                                                   </td><td>+                                                                                                                                                                                                   </td><td>1                                                                                                                                                                                                   </td><td>372537                                                                                                                                                                                              </td><td>374866                                                                                                                                                                                              </td><td>gene:GRMZM2G137697                                                                                                                                                                                  </td><td>.                                                                                                                                                                                                   </td><td>+                                                                                                                                                                                                   </td><td>ensembl                                                                                                                                                                                             </td><td>gene                                                                                                                                                                                                </td><td>.                                                                                                                                                                                                   </td><td>ID=gene:GRMZM2G137697;assembly_name=AGPv3;biotype=protein_coding;description=30S ribosomal protein S15%2C chloroplastic  [Source:UniProtKB/Swiss-Prot%3BAcc:P17703];logic_name=genebuilder;version=1</td><td>  4339                                                                                                                                                                                              </td></tr>\n",
       "\t<tr><td>1                                                                                                                                                                                                   </td><td>368897                                                                                                                                                                                              </td><td>368898                                                                                                                                                                                              </td><td>1.368898.368898.+                                                                                                                                                                                   </td><td>2                                                                                                                                                                                                   </td><td>+                                                                                                                                                                                                   </td><td>1                                                                                                                                                                                                   </td><td>372537                                                                                                                                                                                              </td><td>374866                                                                                                                                                                                              </td><td>gene:GRMZM2G137697                                                                                                                                                                                  </td><td>.                                                                                                                                                                                                   </td><td>+                                                                                                                                                                                                   </td><td>ensembl                                                                                                                                                                                             </td><td>gene                                                                                                                                                                                                </td><td>.                                                                                                                                                                                                   </td><td>ID=gene:GRMZM2G137697;assembly_name=AGPv3;biotype=protein_coding;description=30S ribosomal protein S15%2C chloroplastic  [Source:UniProtKB/Swiss-Prot%3BAcc:P17703];logic_name=genebuilder;version=1</td><td>  3640                                                                                                                                                                                              </td></tr>\n",
       "</tbody>\n",
       "</table>\n"
      ],
      "text/latex": [
       "\\begin{tabular}{r|lllllllllllllllll}\n",
       " V1 & V2 & V3 & V4 & V5 & V6 & V7 & V8 & V9 & V10 & V11 & V12 & V13 & V14 & V15 & V16 & V17\\\\\n",
       "\\hline\n",
       "\t 1                                                                                                                                                                                                          &   9627                                                                                                                                                                                                     &   9628                                                                                                                                                                                                     & 1.9628.9628.+                                                                                                                                                                                              & 2                                                                                                                                                                                                          & +                                                                                                                                                                                                          & 1                                                                                                                                                                                                          & 136306                                                                                                                                                                                                     & 138929                                                                                                                                                                                                     & gene:GRMZM2G093399                                                                                                                                                                                         & .                                                                                                                                                                                                          & +                                                                                                                                                                                                          & ensembl                                                                                                                                                                                                    & gene                                                                                                                                                                                                       & .                                                                                                                                                                                                          & ID=gene:GRMZM2G093399;assembly\\_name=AGPv3;biotype=protein\\_coding;logic\\_name=genebuilder;version=1                                                                                                    & 126679                                                                                                                                                                                                    \\\\\n",
       "\t 1                                                                                                                                                                                                          &  60112                                                                                                                                                                                                     &  60113                                                                                                                                                                                                     & 1.60113.60113.+                                                                                                                                                                                            & 2                                                                                                                                                                                                          & +                                                                                                                                                                                                          & 1                                                                                                                                                                                                          & 136306                                                                                                                                                                                                     & 138929                                                                                                                                                                                                     & gene:GRMZM2G093399                                                                                                                                                                                         & .                                                                                                                                                                                                          & +                                                                                                                                                                                                          & ensembl                                                                                                                                                                                                    & gene                                                                                                                                                                                                       & .                                                                                                                                                                                                          & ID=gene:GRMZM2G093399;assembly\\_name=AGPv3;biotype=protein\\_coding;logic\\_name=genebuilder;version=1                                                                                                    &  76194                                                                                                                                                                                                    \\\\\n",
       "\t 1                                                                                                                                                                                                          & 260376                                                                                                                                                                                                     & 260377                                                                                                                                                                                                     & 1.260377.260377.+                                                                                                                                                                                          & 2                                                                                                                                                                                                          & +                                                                                                                                                                                                          & 1                                                                                                                                                                                                          & 272524                                                                                                                                                                                                     & 274767                                                                                                                                                                                                     & gene:GRMZM2G023863                                                                                                                                                                                         & .                                                                                                                                                                                                          & +                                                                                                                                                                                                          & ensembl                                                                                                                                                                                                    & gene                                                                                                                                                                                                       & .                                                                                                                                                                                                          & ID=gene:GRMZM2G023863;assembly\\_name=AGPv3;biotype=protein\\_coding;logic\\_name=genebuilder;version=2                                                                                                    &  12148                                                                                                                                                                                                    \\\\\n",
       "\t 1                                                                                                                                                                                                                  & 367700                                                                                                                                                                                                             & 367701                                                                                                                                                                                                             & 1.367701.367701.+                                                                                                                                                                                                  & 2                                                                                                                                                                                                                  & +                                                                                                                                                                                                                  & 1                                                                                                                                                                                                                  & 372537                                                                                                                                                                                                             & 374866                                                                                                                                                                                                             & gene:GRMZM2G137697                                                                                                                                                                                                 & .                                                                                                                                                                                                                  & +                                                                                                                                                                                                                  & ensembl                                                                                                                                                                                                            & gene                                                                                                                                                                                                               & .                                                                                                                                                                                                                  & ID=gene:GRMZM2G137697;assembly\\_name=AGPv3;biotype=protein\\_coding;description=30S ribosomal protein S15\\%2C chloroplastic  {[}Source:UniProtKB/Swiss-Prot\\%3BAcc:P17703{]};logic\\_name=genebuilder;version=1 &   4837                                                                                                                                                                                                            \\\\\n",
       "\t 1                                                                                                                                                                                                                  & 368198                                                                                                                                                                                                             & 368199                                                                                                                                                                                                             & 1.368199.368199.+                                                                                                                                                                                                  & 2                                                                                                                                                                                                                  & +                                                                                                                                                                                                                  & 1                                                                                                                                                                                                                  & 372537                                                                                                                                                                                                             & 374866                                                                                                                                                                                                             & gene:GRMZM2G137697                                                                                                                                                                                                 & .                                                                                                                                                                                                                  & +                                                                                                                                                                                                                  & ensembl                                                                                                                                                                                                            & gene                                                                                                                                                                                                               & .                                                                                                                                                                                                                  & ID=gene:GRMZM2G137697;assembly\\_name=AGPv3;biotype=protein\\_coding;description=30S ribosomal protein S15\\%2C chloroplastic  {[}Source:UniProtKB/Swiss-Prot\\%3BAcc:P17703{]};logic\\_name=genebuilder;version=1 &   4339                                                                                                                                                                                                            \\\\\n",
       "\t 1                                                                                                                                                                                                                  & 368897                                                                                                                                                                                                             & 368898                                                                                                                                                                                                             & 1.368898.368898.+                                                                                                                                                                                                  & 2                                                                                                                                                                                                                  & +                                                                                                                                                                                                                  & 1                                                                                                                                                                                                                  & 372537                                                                                                                                                                                                             & 374866                                                                                                                                                                                                             & gene:GRMZM2G137697                                                                                                                                                                                                 & .                                                                                                                                                                                                                  & +                                                                                                                                                                                                                  & ensembl                                                                                                                                                                                                            & gene                                                                                                                                                                                                               & .                                                                                                                                                                                                                  & ID=gene:GRMZM2G137697;assembly\\_name=AGPv3;biotype=protein\\_coding;description=30S ribosomal protein S15\\%2C chloroplastic  {[}Source:UniProtKB/Swiss-Prot\\%3BAcc:P17703{]};logic\\_name=genebuilder;version=1 &   3640                                                                                                                                                                                                            \\\\\n",
       "\\end{tabular}\n"
      ],
      "text/markdown": [
       "\n",
       "V1 | V2 | V3 | V4 | V5 | V6 | V7 | V8 | V9 | V10 | V11 | V12 | V13 | V14 | V15 | V16 | V17 | \n",
       "|---|---|---|---|---|---|\n",
       "| 1                                                                                                                                                                                                    |   9627                                                                                                                                                                                               |   9628                                                                                                                                                                                               | 1.9628.9628.+                                                                                                                                                                                        | 2                                                                                                                                                                                                    | +                                                                                                                                                                                                    | 1                                                                                                                                                                                                    | 136306                                                                                                                                                                                               | 138929                                                                                                                                                                                               | gene:GRMZM2G093399                                                                                                                                                                                   | .                                                                                                                                                                                                    | +                                                                                                                                                                                                    | ensembl                                                                                                                                                                                              | gene                                                                                                                                                                                                 | .                                                                                                                                                                                                    | ID=gene:GRMZM2G093399;assembly_name=AGPv3;biotype=protein_coding;logic_name=genebuilder;version=1                                                                                                    | 126679                                                                                                                                                                                               | \n",
       "| 1                                                                                                                                                                                                    |  60112                                                                                                                                                                                               |  60113                                                                                                                                                                                               | 1.60113.60113.+                                                                                                                                                                                      | 2                                                                                                                                                                                                    | +                                                                                                                                                                                                    | 1                                                                                                                                                                                                    | 136306                                                                                                                                                                                               | 138929                                                                                                                                                                                               | gene:GRMZM2G093399                                                                                                                                                                                   | .                                                                                                                                                                                                    | +                                                                                                                                                                                                    | ensembl                                                                                                                                                                                              | gene                                                                                                                                                                                                 | .                                                                                                                                                                                                    | ID=gene:GRMZM2G093399;assembly_name=AGPv3;biotype=protein_coding;logic_name=genebuilder;version=1                                                                                                    |  76194                                                                                                                                                                                               | \n",
       "| 1                                                                                                                                                                                                    | 260376                                                                                                                                                                                               | 260377                                                                                                                                                                                               | 1.260377.260377.+                                                                                                                                                                                    | 2                                                                                                                                                                                                    | +                                                                                                                                                                                                    | 1                                                                                                                                                                                                    | 272524                                                                                                                                                                                               | 274767                                                                                                                                                                                               | gene:GRMZM2G023863                                                                                                                                                                                   | .                                                                                                                                                                                                    | +                                                                                                                                                                                                    | ensembl                                                                                                                                                                                              | gene                                                                                                                                                                                                 | .                                                                                                                                                                                                    | ID=gene:GRMZM2G023863;assembly_name=AGPv3;biotype=protein_coding;logic_name=genebuilder;version=2                                                                                                    |  12148                                                                                                                                                                                               | \n",
       "| 1                                                                                                                                                                                                    | 367700                                                                                                                                                                                               | 367701                                                                                                                                                                                               | 1.367701.367701.+                                                                                                                                                                                    | 2                                                                                                                                                                                                    | +                                                                                                                                                                                                    | 1                                                                                                                                                                                                    | 372537                                                                                                                                                                                               | 374866                                                                                                                                                                                               | gene:GRMZM2G137697                                                                                                                                                                                   | .                                                                                                                                                                                                    | +                                                                                                                                                                                                    | ensembl                                                                                                                                                                                              | gene                                                                                                                                                                                                 | .                                                                                                                                                                                                    | ID=gene:GRMZM2G137697;assembly_name=AGPv3;biotype=protein_coding;description=30S ribosomal protein S15%2C chloroplastic  [Source:UniProtKB/Swiss-Prot%3BAcc:P17703];logic_name=genebuilder;version=1 |   4837                                                                                                                                                                                               | \n",
       "| 1                                                                                                                                                                                                    | 368198                                                                                                                                                                                               | 368199                                                                                                                                                                                               | 1.368199.368199.+                                                                                                                                                                                    | 2                                                                                                                                                                                                    | +                                                                                                                                                                                                    | 1                                                                                                                                                                                                    | 372537                                                                                                                                                                                               | 374866                                                                                                                                                                                               | gene:GRMZM2G137697                                                                                                                                                                                   | .                                                                                                                                                                                                    | +                                                                                                                                                                                                    | ensembl                                                                                                                                                                                              | gene                                                                                                                                                                                                 | .                                                                                                                                                                                                    | ID=gene:GRMZM2G137697;assembly_name=AGPv3;biotype=protein_coding;description=30S ribosomal protein S15%2C chloroplastic  [Source:UniProtKB/Swiss-Prot%3BAcc:P17703];logic_name=genebuilder;version=1 |   4339                                                                                                                                                                                               | \n",
       "| 1                                                                                                                                                                                                    | 368897                                                                                                                                                                                               | 368898                                                                                                                                                                                               | 1.368898.368898.+                                                                                                                                                                                    | 2                                                                                                                                                                                                    | +                                                                                                                                                                                                    | 1                                                                                                                                                                                                    | 372537                                                                                                                                                                                               | 374866                                                                                                                                                                                               | gene:GRMZM2G137697                                                                                                                                                                                   | .                                                                                                                                                                                                    | +                                                                                                                                                                                                    | ensembl                                                                                                                                                                                              | gene                                                                                                                                                                                                 | .                                                                                                                                                                                                    | ID=gene:GRMZM2G137697;assembly_name=AGPv3;biotype=protein_coding;description=30S ribosomal protein S15%2C chloroplastic  [Source:UniProtKB/Swiss-Prot%3BAcc:P17703];logic_name=genebuilder;version=1 |   3640                                                                                                                                                                                               | \n",
       "\n",
       "\n"
      ],
      "text/plain": [
       "  V1 V2     V3     V4                V5 V6 V7 V8     V9     V10               \n",
       "1 1    9627   9628 1.9628.9628.+     2  +  1  136306 138929 gene:GRMZM2G093399\n",
       "2 1   60112  60113 1.60113.60113.+   2  +  1  136306 138929 gene:GRMZM2G093399\n",
       "3 1  260376 260377 1.260377.260377.+ 2  +  1  272524 274767 gene:GRMZM2G023863\n",
       "4 1  367700 367701 1.367701.367701.+ 2  +  1  372537 374866 gene:GRMZM2G137697\n",
       "5 1  368198 368199 1.368199.368199.+ 2  +  1  372537 374866 gene:GRMZM2G137697\n",
       "6 1  368897 368898 1.368898.368898.+ 2  +  1  372537 374866 gene:GRMZM2G137697\n",
       "  V11 V12 V13     V14  V15\n",
       "1 .   +   ensembl gene .  \n",
       "2 .   +   ensembl gene .  \n",
       "3 .   +   ensembl gene .  \n",
       "4 .   +   ensembl gene .  \n",
       "5 .   +   ensembl gene .  \n",
       "6 .   +   ensembl gene .  \n",
       "  V16                                                                                                                                                                                                 \n",
       "1 ID=gene:GRMZM2G093399;assembly_name=AGPv3;biotype=protein_coding;logic_name=genebuilder;version=1                                                                                                   \n",
       "2 ID=gene:GRMZM2G093399;assembly_name=AGPv3;biotype=protein_coding;logic_name=genebuilder;version=1                                                                                                   \n",
       "3 ID=gene:GRMZM2G023863;assembly_name=AGPv3;biotype=protein_coding;logic_name=genebuilder;version=2                                                                                                   \n",
       "4 ID=gene:GRMZM2G137697;assembly_name=AGPv3;biotype=protein_coding;description=30S ribosomal protein S15%2C chloroplastic  [Source:UniProtKB/Swiss-Prot%3BAcc:P17703];logic_name=genebuilder;version=1\n",
       "5 ID=gene:GRMZM2G137697;assembly_name=AGPv3;biotype=protein_coding;description=30S ribosomal protein S15%2C chloroplastic  [Source:UniProtKB/Swiss-Prot%3BAcc:P17703];logic_name=genebuilder;version=1\n",
       "6 ID=gene:GRMZM2G137697;assembly_name=AGPv3;biotype=protein_coding;description=30S ribosomal protein S15%2C chloroplastic  [Source:UniProtKB/Swiss-Prot%3BAcc:P17703];logic_name=genebuilder;version=1\n",
       "  V17   \n",
       "1 126679\n",
       "2  76194\n",
       "3  12148\n",
       "4   4837\n",
       "5   4339\n",
       "6   3640"
      ]
     },
     "metadata": {},
     "output_type": "display_data"
    }
   ],
   "source": [
    "head(ZmESTdist)"
   ]
  },
  {
   "cell_type": "code",
   "execution_count": 12,
   "metadata": {},
   "outputs": [],
   "source": [
    "colnames(AtESTdist) <- c(\"chr\",\"start1\",\"end1\", \"ID1\", \"score\", \"strand1\", \"chr2\", \"start2\", \"end2\", \"ID2\", \"score2\", \"strand2\", \"assemblyI\\\n",
    "D\", \"type\", \"score3\", \"ID_string\", \"distance\")"
   ]
  },
  {
   "cell_type": "code",
   "execution_count": 13,
   "metadata": {},
   "outputs": [],
   "source": [
    "colnames(ZmESTdist) <- c(\"chr\",\"start1\",\"end1\", \"ID1\", \"score\", \"strand1\", \"chr2\", \"start2\", \"end2\", \"ID2\", \"score2\", \"strand2\", \"assemblyI\\\n",
    "D\", \"type\", \"score3\", \"ID_string\", \"distance\")"
   ]
  },
  {
   "cell_type": "code",
   "execution_count": 14,
   "metadata": {},
   "outputs": [
    {
     "data": {
      "text/html": [
       "<table>\n",
       "<thead><tr><th scope=col>chr</th><th scope=col>start1</th><th scope=col>end1</th><th scope=col>ID1</th><th scope=col>score</th><th scope=col>strand1</th><th scope=col>chr2</th><th scope=col>start2</th><th scope=col>end2</th><th scope=col>ID2</th><th scope=col>score2</th><th scope=col>strand2</th><th scope=col>assemblyI\n",
       "D</th><th scope=col>type</th><th scope=col>score3</th><th scope=col>ID_string</th><th scope=col>distance</th></tr></thead>\n",
       "<tbody>\n",
       "\t<tr><td>Chr1                                                </td><td>33113                                               </td><td>33114                                               </td><td>Chr1.33114.33114.+                                  </td><td> 2.00                                               </td><td>+                                                   </td><td>Chr1                                                </td><td>44676                                               </td><td>44787                                               </td><td>AT1G01073                                           </td><td>.                                                   </td><td>+                                                   </td><td>TAIR10                                              </td><td>gene                                                </td><td>.                                                   </td><td>ID=AT1G01073;Note=protein_coding_gene;Name=AT1G01073</td><td>11563                                               </td></tr>\n",
       "\t<tr><td>Chr1                                                </td><td>33147                                               </td><td>33148                                               </td><td>Chr1.33148.33148.+                                  </td><td> 2.00                                               </td><td>+                                                   </td><td>Chr1                                                </td><td>44676                                               </td><td>44787                                               </td><td>AT1G01073                                           </td><td>.                                                   </td><td>+                                                   </td><td>TAIR10                                              </td><td>gene                                                </td><td>.                                                   </td><td>ID=AT1G01073;Note=protein_coding_gene;Name=AT1G01073</td><td>11529                                               </td></tr>\n",
       "\t<tr><td>Chr1                                                </td><td>46816                                               </td><td>46817                                               </td><td>Chr1.46817.46817.+                                  </td><td> 2.00                                               </td><td>+                                                   </td><td>Chr1                                                </td><td>52238                                               </td><td>54692                                               </td><td>AT1G01110                                           </td><td>.                                                   </td><td>+                                                   </td><td>TAIR10                                              </td><td>gene                                                </td><td>.                                                   </td><td>ID=AT1G01110;Note=protein_coding_gene;Name=AT1G01110</td><td> 5422                                               </td></tr>\n",
       "\t<tr><td>Chr1                                                </td><td>49270                                               </td><td>49283                                               </td><td>Chr1.49271.49283.+                                  </td><td> 0.02                                               </td><td>+                                                   </td><td>Chr1                                                </td><td>52238                                               </td><td>54692                                               </td><td>AT1G01110                                           </td><td>.                                                   </td><td>+                                                   </td><td>TAIR10                                              </td><td>gene                                                </td><td>.                                                   </td><td>ID=AT1G01110;Note=protein_coding_gene;Name=AT1G01110</td><td> 2956                                               </td></tr>\n",
       "\t<tr><td>Chr1                                                </td><td>50523                                               </td><td>50524                                               </td><td>Chr1.50524.50524.+                                  </td><td> 2.00                                               </td><td>+                                                   </td><td>Chr1                                                </td><td>52238                                               </td><td>54692                                               </td><td>AT1G01110                                           </td><td>.                                                   </td><td>+                                                   </td><td>TAIR10                                              </td><td>gene                                                </td><td>.                                                   </td><td>ID=AT1G01110;Note=protein_coding_gene;Name=AT1G01110</td><td> 1715                                               </td></tr>\n",
       "\t<tr><td>Chr1                                                </td><td>51176                                               </td><td>51191                                               </td><td>Chr1.51177.51191.+                                  </td><td>-0.74                                               </td><td>+                                                   </td><td>Chr1                                                </td><td>52238                                               </td><td>54692                                               </td><td>AT1G01110                                           </td><td>.                                                   </td><td>+                                                   </td><td>TAIR10                                              </td><td>gene                                                </td><td>.                                                   </td><td>ID=AT1G01110;Note=protein_coding_gene;Name=AT1G01110</td><td> 1048                                               </td></tr>\n",
       "</tbody>\n",
       "</table>\n"
      ],
      "text/latex": [
       "\\begin{tabular}{r|lllllllllllllllll}\n",
       " chr & start1 & end1 & ID1 & score & strand1 & chr2 & start2 & end2 & ID2 & score2 & strand2 & assemblyI\n",
       "D & type & score3 & ID\\_string & distance\\\\\n",
       "\\hline\n",
       "\t Chr1                                                     & 33113                                                    & 33114                                                    & Chr1.33114.33114.+                                       &  2.00                                                    & +                                                        & Chr1                                                     & 44676                                                    & 44787                                                    & AT1G01073                                                & .                                                        & +                                                        & TAIR10                                                   & gene                                                     & .                                                        & ID=AT1G01073;Note=protein\\_coding\\_gene;Name=AT1G01073 & 11563                                                   \\\\\n",
       "\t Chr1                                                     & 33147                                                    & 33148                                                    & Chr1.33148.33148.+                                       &  2.00                                                    & +                                                        & Chr1                                                     & 44676                                                    & 44787                                                    & AT1G01073                                                & .                                                        & +                                                        & TAIR10                                                   & gene                                                     & .                                                        & ID=AT1G01073;Note=protein\\_coding\\_gene;Name=AT1G01073 & 11529                                                   \\\\\n",
       "\t Chr1                                                     & 46816                                                    & 46817                                                    & Chr1.46817.46817.+                                       &  2.00                                                    & +                                                        & Chr1                                                     & 52238                                                    & 54692                                                    & AT1G01110                                                & .                                                        & +                                                        & TAIR10                                                   & gene                                                     & .                                                        & ID=AT1G01110;Note=protein\\_coding\\_gene;Name=AT1G01110 &  5422                                                   \\\\\n",
       "\t Chr1                                                     & 49270                                                    & 49283                                                    & Chr1.49271.49283.+                                       &  0.02                                                    & +                                                        & Chr1                                                     & 52238                                                    & 54692                                                    & AT1G01110                                                & .                                                        & +                                                        & TAIR10                                                   & gene                                                     & .                                                        & ID=AT1G01110;Note=protein\\_coding\\_gene;Name=AT1G01110 &  2956                                                   \\\\\n",
       "\t Chr1                                                     & 50523                                                    & 50524                                                    & Chr1.50524.50524.+                                       &  2.00                                                    & +                                                        & Chr1                                                     & 52238                                                    & 54692                                                    & AT1G01110                                                & .                                                        & +                                                        & TAIR10                                                   & gene                                                     & .                                                        & ID=AT1G01110;Note=protein\\_coding\\_gene;Name=AT1G01110 &  1715                                                   \\\\\n",
       "\t Chr1                                                     & 51176                                                    & 51191                                                    & Chr1.51177.51191.+                                       & -0.74                                                    & +                                                        & Chr1                                                     & 52238                                                    & 54692                                                    & AT1G01110                                                & .                                                        & +                                                        & TAIR10                                                   & gene                                                     & .                                                        & ID=AT1G01110;Note=protein\\_coding\\_gene;Name=AT1G01110 &  1048                                                   \\\\\n",
       "\\end{tabular}\n"
      ],
      "text/markdown": [
       "\n",
       "chr | start1 | end1 | ID1 | score | strand1 | chr2 | start2 | end2 | ID2 | score2 | strand2 | assemblyI\n",
       "D | type | score3 | ID_string | distance | \n",
       "|---|---|---|---|---|---|\n",
       "| Chr1                                                 | 33113                                                | 33114                                                | Chr1.33114.33114.+                                   |  2.00                                                | +                                                    | Chr1                                                 | 44676                                                | 44787                                                | AT1G01073                                            | .                                                    | +                                                    | TAIR10                                               | gene                                                 | .                                                    | ID=AT1G01073;Note=protein_coding_gene;Name=AT1G01073 | 11563                                                | \n",
       "| Chr1                                                 | 33147                                                | 33148                                                | Chr1.33148.33148.+                                   |  2.00                                                | +                                                    | Chr1                                                 | 44676                                                | 44787                                                | AT1G01073                                            | .                                                    | +                                                    | TAIR10                                               | gene                                                 | .                                                    | ID=AT1G01073;Note=protein_coding_gene;Name=AT1G01073 | 11529                                                | \n",
       "| Chr1                                                 | 46816                                                | 46817                                                | Chr1.46817.46817.+                                   |  2.00                                                | +                                                    | Chr1                                                 | 52238                                                | 54692                                                | AT1G01110                                            | .                                                    | +                                                    | TAIR10                                               | gene                                                 | .                                                    | ID=AT1G01110;Note=protein_coding_gene;Name=AT1G01110 |  5422                                                | \n",
       "| Chr1                                                 | 49270                                                | 49283                                                | Chr1.49271.49283.+                                   |  0.02                                                | +                                                    | Chr1                                                 | 52238                                                | 54692                                                | AT1G01110                                            | .                                                    | +                                                    | TAIR10                                               | gene                                                 | .                                                    | ID=AT1G01110;Note=protein_coding_gene;Name=AT1G01110 |  2956                                                | \n",
       "| Chr1                                                 | 50523                                                | 50524                                                | Chr1.50524.50524.+                                   |  2.00                                                | +                                                    | Chr1                                                 | 52238                                                | 54692                                                | AT1G01110                                            | .                                                    | +                                                    | TAIR10                                               | gene                                                 | .                                                    | ID=AT1G01110;Note=protein_coding_gene;Name=AT1G01110 |  1715                                                | \n",
       "| Chr1                                                 | 51176                                                | 51191                                                | Chr1.51177.51191.+                                   | -0.74                                                | +                                                    | Chr1                                                 | 52238                                                | 54692                                                | AT1G01110                                            | .                                                    | +                                                    | TAIR10                                               | gene                                                 | .                                                    | ID=AT1G01110;Note=protein_coding_gene;Name=AT1G01110 |  1048                                                | \n",
       "\n",
       "\n"
      ],
      "text/plain": [
       "  chr  start1 end1  ID1                score strand1 chr2 start2 end2 \n",
       "1 Chr1 33113  33114 Chr1.33114.33114.+  2.00 +       Chr1 44676  44787\n",
       "2 Chr1 33147  33148 Chr1.33148.33148.+  2.00 +       Chr1 44676  44787\n",
       "3 Chr1 46816  46817 Chr1.46817.46817.+  2.00 +       Chr1 52238  54692\n",
       "4 Chr1 49270  49283 Chr1.49271.49283.+  0.02 +       Chr1 52238  54692\n",
       "5 Chr1 50523  50524 Chr1.50524.50524.+  2.00 +       Chr1 52238  54692\n",
       "6 Chr1 51176  51191 Chr1.51177.51191.+ -0.74 +       Chr1 52238  54692\n",
       "  ID2       score2 strand2 assemblyI\\nD type score3\n",
       "1 AT1G01073 .      +       TAIR10       gene .     \n",
       "2 AT1G01073 .      +       TAIR10       gene .     \n",
       "3 AT1G01110 .      +       TAIR10       gene .     \n",
       "4 AT1G01110 .      +       TAIR10       gene .     \n",
       "5 AT1G01110 .      +       TAIR10       gene .     \n",
       "6 AT1G01110 .      +       TAIR10       gene .     \n",
       "  ID_string                                            distance\n",
       "1 ID=AT1G01073;Note=protein_coding_gene;Name=AT1G01073 11563   \n",
       "2 ID=AT1G01073;Note=protein_coding_gene;Name=AT1G01073 11529   \n",
       "3 ID=AT1G01110;Note=protein_coding_gene;Name=AT1G01110  5422   \n",
       "4 ID=AT1G01110;Note=protein_coding_gene;Name=AT1G01110  2956   \n",
       "5 ID=AT1G01110;Note=protein_coding_gene;Name=AT1G01110  1715   \n",
       "6 ID=AT1G01110;Note=protein_coding_gene;Name=AT1G01110  1048   "
      ]
     },
     "metadata": {},
     "output_type": "display_data"
    }
   ],
   "source": [
    "head(AtESTdist)"
   ]
  },
  {
   "cell_type": "code",
   "execution_count": 15,
   "metadata": {},
   "outputs": [
    {
     "data": {
      "text/html": [
       "<ol class=list-inline>\n",
       "\t<li>15928</li>\n",
       "\t<li>17</li>\n",
       "</ol>\n"
      ],
      "text/latex": [
       "\\begin{enumerate*}\n",
       "\\item 15928\n",
       "\\item 17\n",
       "\\end{enumerate*}\n"
      ],
      "text/markdown": [
       "1. 15928\n",
       "2. 17\n",
       "\n",
       "\n"
      ],
      "text/plain": [
       "[1] 15928    17"
      ]
     },
     "metadata": {},
     "output_type": "display_data"
    }
   ],
   "source": [
    "dim(AtESTdist)"
   ]
  },
  {
   "cell_type": "code",
   "execution_count": 16,
   "metadata": {},
   "outputs": [
    {
     "data": {
      "text/html": [
       "<ol class=list-inline>\n",
       "\t<li>'integer'</li>\n",
       "\t<li>'numeric'</li>\n",
       "\t<li>'vector'</li>\n",
       "\t<li>'data.frameRowLabels'</li>\n",
       "\t<li>'integer_OR_Linteger'</li>\n",
       "\t<li>'atomic'</li>\n",
       "\t<li>'EnumerationValue'</li>\n",
       "\t<li>'vector_OR_factor'</li>\n",
       "</ol>\n"
      ],
      "text/latex": [
       "\\begin{enumerate*}\n",
       "\\item 'integer'\n",
       "\\item 'numeric'\n",
       "\\item 'vector'\n",
       "\\item 'data.frameRowLabels'\n",
       "\\item 'integer\\_OR\\_Linteger'\n",
       "\\item 'atomic'\n",
       "\\item 'EnumerationValue'\n",
       "\\item 'vector\\_OR\\_factor'\n",
       "\\end{enumerate*}\n"
      ],
      "text/markdown": [
       "1. 'integer'\n",
       "2. 'numeric'\n",
       "3. 'vector'\n",
       "4. 'data.frameRowLabels'\n",
       "5. 'integer_OR_Linteger'\n",
       "6. 'atomic'\n",
       "7. 'EnumerationValue'\n",
       "8. 'vector_OR_factor'\n",
       "\n",
       "\n"
      ],
      "text/plain": [
       "[1] \"integer\"             \"numeric\"             \"vector\"             \n",
       "[4] \"data.frameRowLabels\" \"integer_OR_Linteger\" \"atomic\"             \n",
       "[7] \"EnumerationValue\"    \"vector_OR_factor\"   "
      ]
     },
     "metadata": {},
     "output_type": "display_data"
    }
   ],
   "source": [
    "is(AtESTdist$distance)"
   ]
  },
  {
   "cell_type": "code",
   "execution_count": 17,
   "metadata": {},
   "outputs": [],
   "source": [
    "a <- ggplot(AtESTdist, aes(distance))"
   ]
  },
  {
   "cell_type": "code",
   "execution_count": 18,
   "metadata": {},
   "outputs": [
    {
     "name": "stderr",
     "output_type": "stream",
     "text": [
      "Warning message:\n",
      "“Removed 2116 rows containing non-finite values (stat_bin).”Warning message:\n",
      "“Removed 1 rows containing missing values (geom_bar).”"
     ]
    },
    {
     "data": {},
     "metadata": {},
     "output_type": "display_data"
    },
    {
     "data": {
      "image/png": "[encoded data removed]",
      "text/plain": [
       "plot without title"
      ]
     },
     "metadata": {},
     "output_type": "display_data"
    }
   ],
   "source": [
    "a + geom_histogram(binwidth=500, colour=\"white\",fill=\"navy\") + scale_x_continuous(limit=c(0,50000)) + scale_y_continuous(limit=c(0,500))"
   ]
  },
  {
   "cell_type": "code",
   "execution_count": 19,
   "metadata": {},
   "outputs": [
    {
     "name": "stderr",
     "output_type": "stream",
     "text": [
      "Saving 6.67 x 6.67 in image\n",
      "Warning message:\n",
      "“Removed 2116 rows containing non-finite values (stat_bin).”Warning message:\n",
      "“Removed 1 rows containing missing values (geom_bar).”"
     ]
    }
   ],
   "source": [
    "ggsave(\"AtEST_closest_hist.png\")"
   ]
  },
  {
   "cell_type": "code",
   "execution_count": 20,
   "metadata": {},
   "outputs": [
    {
     "data": {
      "text/html": [
       "<ol class=list-inline>\n",
       "\t<li>16082</li>\n",
       "\t<li>17</li>\n",
       "</ol>\n"
      ],
      "text/latex": [
       "\\begin{enumerate*}\n",
       "\\item 16082\n",
       "\\item 17\n",
       "\\end{enumerate*}\n"
      ],
      "text/markdown": [
       "1. 16082\n",
       "2. 17\n",
       "\n",
       "\n"
      ],
      "text/plain": [
       "[1] 16082    17"
      ]
     },
     "metadata": {},
     "output_type": "display_data"
    }
   ],
   "source": [
    "dim(ZmESTdist)"
   ]
  },
  {
   "cell_type": "code",
   "execution_count": 21,
   "metadata": {},
   "outputs": [],
   "source": [
    "z <- ggplot(ZmESTdist, aes(distance))"
   ]
  },
  {
   "cell_type": "code",
   "execution_count": 22,
   "metadata": {},
   "outputs": [
    {
     "name": "stderr",
     "output_type": "stream",
     "text": [
      "Warning message:\n",
      "“Removed 5488 rows containing non-finite values (stat_bin).”Warning message:\n",
      "“Removed 1 rows containing missing values (geom_bar).”"
     ]
    },
    {
     "data": {},
     "metadata": {},
     "output_type": "display_data"
    },
    {
     "data": {
      "image/png": "[encoded data removed]",
      "text/plain": [
       "plot without title"
      ]
     },
     "metadata": {},
     "output_type": "display_data"
    }
   ],
   "source": [
    "z + geom_histogram(binwidth=500, colour=\"black\",fill=\"gold\") + scale_x_continuous(limit=c(0,50000)) + scale_y_continuous(limit=c(0,200))"
   ]
  },
  {
   "cell_type": "code",
   "execution_count": 23,
   "metadata": {},
   "outputs": [
    {
     "name": "stderr",
     "output_type": "stream",
     "text": [
      "Saving 6.67 x 6.67 in image\n",
      "Warning message:\n",
      "“Removed 5488 rows containing non-finite values (stat_bin).”Warning message:\n",
      "“Removed 1 rows containing missing values (geom_bar).”"
     ]
    }
   ],
   "source": [
    "ggsave(\"ZmEST_closest_hist.png\")"
   ]
  },
  {
   "cell_type": "code",
   "execution_count": 141,
   "metadata": {},
   "outputs": [],
   "source": [
    "n.prom <- matrix(NA, nrow=4, ncol=2)"
   ]
  },
  {
   "cell_type": "code",
   "execution_count": 142,
   "metadata": {},
   "outputs": [],
   "source": [
    "under200 <- length(which(AtESTdist[,17]<200))"
   ]
  },
  {
   "cell_type": "code",
   "execution_count": 143,
   "metadata": {},
   "outputs": [],
   "source": [
    "under500 <- length(which(AtESTdist[,17]<500))"
   ]
  },
  {
   "cell_type": "code",
   "execution_count": 144,
   "metadata": {},
   "outputs": [],
   "source": [
    "under1000 <- length(which(AtESTdist[,17]<1000))"
   ]
  },
  {
   "cell_type": "code",
   "execution_count": 28,
   "metadata": {},
   "outputs": [],
   "source": [
    "above1k  <- length(which(AtESTdist[,17]>=1000))"
   ]
  },
  {
   "cell_type": "code",
   "execution_count": 145,
   "metadata": {},
   "outputs": [],
   "source": [
    "under200.ind <- which(AtESTdist[,17]<200)"
   ]
  },
  {
   "cell_type": "code",
   "execution_count": 146,
   "metadata": {},
   "outputs": [],
   "source": [
    "under500.ind <- which(AtESTdist[,17]<500)"
   ]
  },
  {
   "cell_type": "code",
   "execution_count": 147,
   "metadata": {},
   "outputs": [],
   "source": [
    "under1k.ind <- which(AtESTdist[,17]<1000)"
   ]
  },
  {
   "cell_type": "code",
   "execution_count": 148,
   "metadata": {},
   "outputs": [],
   "source": [
    "above1k.ind <- which(AtESTdist[,17]>=1000)"
   ]
  },
  {
   "cell_type": "code",
   "execution_count": 149,
   "metadata": {},
   "outputs": [
    {
     "data": {
      "text/html": [
       "<ol class=list-inline>\n",
       "\t<li>15928</li>\n",
       "\t<li>17</li>\n",
       "</ol>\n"
      ],
      "text/latex": [
       "\\begin{enumerate*}\n",
       "\\item 15928\n",
       "\\item 17\n",
       "\\end{enumerate*}\n"
      ],
      "text/markdown": [
       "1. 15928\n",
       "2. 17\n",
       "\n",
       "\n"
      ],
      "text/plain": [
       "[1] 15928    17"
      ]
     },
     "metadata": {},
     "output_type": "display_data"
    }
   ],
   "source": [
    "dim(AtESTdist)"
   ]
  },
  {
   "cell_type": "code",
   "execution_count": 150,
   "metadata": {},
   "outputs": [],
   "source": [
    "prom.cat <- matrix(NA, nrow=nrow(AtESTdist), ncol=2)"
   ]
  },
  {
   "cell_type": "code",
   "execution_count": 151,
   "metadata": {},
   "outputs": [],
   "source": [
    "prom.cat[above1k.ind,1] <- \"above1k\""
   ]
  },
  {
   "cell_type": "code",
   "execution_count": 152,
   "metadata": {},
   "outputs": [],
   "source": [
    "prom.cat[under1k.ind,1] <- \"under1k\""
   ]
  },
  {
   "cell_type": "code",
   "execution_count": 153,
   "metadata": {},
   "outputs": [],
   "source": [
    "prom.cat[under500.ind,1] <- \"under500\""
   ]
  },
  {
   "cell_type": "code",
   "execution_count": 154,
   "metadata": {},
   "outputs": [],
   "source": [
    "prom.cat[under200.ind,1] <- \"under200\""
   ]
  },
  {
   "cell_type": "code",
   "execution_count": 155,
   "metadata": {},
   "outputs": [],
   "source": [
    "colnames(prom.cat) <- c(\"group\",\"distance\")"
   ]
  },
  {
   "cell_type": "code",
   "execution_count": 156,
   "metadata": {},
   "outputs": [],
   "source": [
    "prom.cat <- as.data.frame(prom.cat)"
   ]
  },
  {
   "cell_type": "code",
   "execution_count": 157,
   "metadata": {},
   "outputs": [],
   "source": [
    "above1k.c <- length(which(as.character(prom.cat$group)==\"above1k\"))"
   ]
  },
  {
   "cell_type": "code",
   "execution_count": 158,
   "metadata": {},
   "outputs": [],
   "source": [
    "under1k.c <- length(which(as.character(prom.cat$group)==\"under1k\"))"
   ]
  },
  {
   "cell_type": "code",
   "execution_count": 159,
   "metadata": {},
   "outputs": [],
   "source": [
    "under500.c <- length(which(as.character(prom.cat$group)==\"under500\"))"
   ]
  },
  {
   "cell_type": "code",
   "execution_count": 160,
   "metadata": {},
   "outputs": [],
   "source": [
    "under200.c <- length(which(as.character(prom.cat$group)==\"under200\"))"
   ]
  },
  {
   "cell_type": "code",
   "execution_count": 161,
   "metadata": {},
   "outputs": [
    {
     "data": {
      "text/html": [
       "8951"
      ],
      "text/latex": [
       "8951"
      ],
      "text/markdown": [
       "8951"
      ],
      "text/plain": [
       "[1] 8951"
      ]
     },
     "metadata": {},
     "output_type": "display_data"
    }
   ],
   "source": [
    "above1k.c"
   ]
  },
  {
   "cell_type": "code",
   "execution_count": 162,
   "metadata": {},
   "outputs": [
    {
     "data": {
      "text/html": [
       "426"
      ],
      "text/latex": [
       "426"
      ],
      "text/markdown": [
       "426"
      ],
      "text/plain": [
       "[1] 426"
      ]
     },
     "metadata": {},
     "output_type": "display_data"
    }
   ],
   "source": [
    "under1k.c"
   ]
  },
  {
   "cell_type": "code",
   "execution_count": 163,
   "metadata": {},
   "outputs": [
    {
     "data": {
      "text/html": [
       "319"
      ],
      "text/latex": [
       "319"
      ],
      "text/markdown": [
       "319"
      ],
      "text/plain": [
       "[1] 319"
      ]
     },
     "metadata": {},
     "output_type": "display_data"
    }
   ],
   "source": [
    "under500.c"
   ]
  },
  {
   "cell_type": "code",
   "execution_count": 165,
   "metadata": {},
   "outputs": [
    {
     "data": {
      "text/html": [
       "6232"
      ],
      "text/latex": [
       "6232"
      ],
      "text/markdown": [
       "6232"
      ],
      "text/plain": [
       "[1] 6232"
      ]
     },
     "metadata": {},
     "output_type": "display_data"
    }
   ],
   "source": [
    "under200.c"
   ]
  },
  {
   "cell_type": "code",
   "execution_count": 166,
   "metadata": {},
   "outputs": [],
   "source": [
    "prom.cat[,2] <- AtESTdist$distance"
   ]
  },
  {
   "cell_type": "code",
   "execution_count": 167,
   "metadata": {},
   "outputs": [
    {
     "data": {
      "text/html": [
       "<table>\n",
       "<thead><tr><th scope=col>group</th><th scope=col>distance</th></tr></thead>\n",
       "<tbody>\n",
       "\t<tr><td>above1k</td><td>11563  </td></tr>\n",
       "\t<tr><td>above1k</td><td>11529  </td></tr>\n",
       "\t<tr><td>above1k</td><td> 5422  </td></tr>\n",
       "\t<tr><td>above1k</td><td> 2956  </td></tr>\n",
       "\t<tr><td>above1k</td><td> 1715  </td></tr>\n",
       "\t<tr><td>above1k</td><td> 1048  </td></tr>\n",
       "</tbody>\n",
       "</table>\n"
      ],
      "text/latex": [
       "\\begin{tabular}{r|ll}\n",
       " group & distance\\\\\n",
       "\\hline\n",
       "\t above1k & 11563  \\\\\n",
       "\t above1k & 11529  \\\\\n",
       "\t above1k &  5422  \\\\\n",
       "\t above1k &  2956  \\\\\n",
       "\t above1k &  1715  \\\\\n",
       "\t above1k &  1048  \\\\\n",
       "\\end{tabular}\n"
      ],
      "text/markdown": [
       "\n",
       "group | distance | \n",
       "|---|---|---|---|---|---|\n",
       "| above1k | 11563   | \n",
       "| above1k | 11529   | \n",
       "| above1k |  5422   | \n",
       "| above1k |  2956   | \n",
       "| above1k |  1715   | \n",
       "| above1k |  1048   | \n",
       "\n",
       "\n"
      ],
      "text/plain": [
       "  group   distance\n",
       "1 above1k 11563   \n",
       "2 above1k 11529   \n",
       "3 above1k  5422   \n",
       "4 above1k  2956   \n",
       "5 above1k  1715   \n",
       "6 above1k  1048   "
      ]
     },
     "metadata": {},
     "output_type": "display_data"
    }
   ],
   "source": [
    "head(prom.cat)"
   ]
  },
  {
   "cell_type": "code",
   "execution_count": 168,
   "metadata": {},
   "outputs": [],
   "source": [
    "prom.cat$distance <- as.numeric(unlist(prom.cat$distance))"
   ]
  },
  {
   "cell_type": "code",
   "execution_count": 169,
   "metadata": {},
   "outputs": [
    {
     "ename": "ERROR",
     "evalue": "Error in `levels<-`(`*tmp*`, value = if (nl == nL) as.character(labels) else paste0(labels, : factor level [2] is duplicated\n",
     "output_type": "error",
     "traceback": [
      "Error in `levels<-`(`*tmp*`, value = if (nl == nL) as.character(labels) else paste0(labels, : factor level [2] is duplicated\nTraceback:\n",
      "1. factor(prom.cat$group, levels = prom.cat$group[order(prom.cat$distance)])"
     ]
    }
   ],
   "source": [
    "prom.cat$group <- factor(prom.cat$group, levels = prom.cat$group[order(prom.cat$distance)])"
   ]
  },
  {
   "cell_type": "code",
   "execution_count": 170,
   "metadata": {},
   "outputs": [],
   "source": [
    "prom.cat$org <- \"Arabidopsis\""
   ]
  },
  {
   "cell_type": "code",
   "execution_count": 171,
   "metadata": {},
   "outputs": [
    {
     "data": {
      "text/html": [
       "<ol class=list-inline>\n",
       "\t<li>'numeric'</li>\n",
       "\t<li>'vector'</li>\n",
       "\t<li>'atomic'</li>\n",
       "\t<li>'EnumerationValue'</li>\n",
       "\t<li>'vector_OR_factor'</li>\n",
       "</ol>\n"
      ],
      "text/latex": [
       "\\begin{enumerate*}\n",
       "\\item 'numeric'\n",
       "\\item 'vector'\n",
       "\\item 'atomic'\n",
       "\\item 'EnumerationValue'\n",
       "\\item 'vector\\_OR\\_factor'\n",
       "\\end{enumerate*}\n"
      ],
      "text/markdown": [
       "1. 'numeric'\n",
       "2. 'vector'\n",
       "3. 'atomic'\n",
       "4. 'EnumerationValue'\n",
       "5. 'vector_OR_factor'\n",
       "\n",
       "\n"
      ],
      "text/plain": [
       "[1] \"numeric\"          \"vector\"           \"atomic\"           \"EnumerationValue\"\n",
       "[5] \"vector_OR_factor\""
      ]
     },
     "metadata": {},
     "output_type": "display_data"
    }
   ],
   "source": [
    "is(prom.cat$distance)"
   ]
  },
  {
   "cell_type": "code",
   "execution_count": 172,
   "metadata": {},
   "outputs": [],
   "source": [
    "n.prom.z <- matrix(NA, nrow=4, ncol=2)"
   ]
  },
  {
   "cell_type": "code",
   "execution_count": 173,
   "metadata": {},
   "outputs": [],
   "source": [
    "under200.z <- length(which(ZmESTdist[,17]<200))"
   ]
  },
  {
   "cell_type": "code",
   "execution_count": 174,
   "metadata": {},
   "outputs": [],
   "source": [
    "under500.z <- length(which(ZmESTdist[,17]<500))"
   ]
  },
  {
   "cell_type": "code",
   "execution_count": 175,
   "metadata": {},
   "outputs": [],
   "source": [
    "under1000.z <- length(which(ZmESTdist[,17]<1000))"
   ]
  },
  {
   "cell_type": "code",
   "execution_count": 176,
   "metadata": {},
   "outputs": [],
   "source": [
    "above1k.z  <- length(which(ZmESTdist[,17]>1000))"
   ]
  },
  {
   "cell_type": "code",
   "execution_count": 177,
   "metadata": {},
   "outputs": [],
   "source": [
    "under200.ind.z <- which(ZmESTdist[,17]<200)"
   ]
  },
  {
   "cell_type": "code",
   "execution_count": 178,
   "metadata": {},
   "outputs": [],
   "source": [
    "under500.ind.z <- which(ZmESTdist[,17]<500)"
   ]
  },
  {
   "cell_type": "code",
   "execution_count": 179,
   "metadata": {},
   "outputs": [],
   "source": [
    "under1k.ind.z <- which(ZmESTdist[,17]<1000)"
   ]
  },
  {
   "cell_type": "code",
   "execution_count": 180,
   "metadata": {},
   "outputs": [],
   "source": [
    "above1k.ind.z <- which(ZmESTdist[,17]>=1000)"
   ]
  },
  {
   "cell_type": "code",
   "execution_count": 181,
   "metadata": {},
   "outputs": [],
   "source": [
    "prom.cat.z <- matrix(NA, nrow=nrow(ZmESTdist), ncol=2)"
   ]
  },
  {
   "cell_type": "code",
   "execution_count": 182,
   "metadata": {},
   "outputs": [],
   "source": [
    "prom.cat.z[above1k.ind.z,1] <- \"above1k\""
   ]
  },
  {
   "cell_type": "code",
   "execution_count": 183,
   "metadata": {},
   "outputs": [],
   "source": [
    "prom.cat.z[under1k.ind.z,1] <- \"under1k\""
   ]
  },
  {
   "cell_type": "code",
   "execution_count": 184,
   "metadata": {},
   "outputs": [],
   "source": [
    "prom.cat.z[under500.ind.z,1] <- \"under500\""
   ]
  },
  {
   "cell_type": "code",
   "execution_count": 185,
   "metadata": {},
   "outputs": [],
   "source": [
    "prom.cat.z[under100.ind.z,1] <- \"under200\""
   ]
  },
  {
   "cell_type": "code",
   "execution_count": 186,
   "metadata": {},
   "outputs": [],
   "source": [
    "prom.cat.z[,2] <- ZmESTdist$distance"
   ]
  },
  {
   "cell_type": "code",
   "execution_count": 187,
   "metadata": {},
   "outputs": [],
   "source": [
    "colnames(prom.cat.z) <- c(\"group\",\"distance\")"
   ]
  },
  {
   "cell_type": "code",
   "execution_count": 188,
   "metadata": {},
   "outputs": [
    {
     "data": {
      "text/html": [
       "<ol class=list-inline>\n",
       "\t<li>16082</li>\n",
       "\t<li>2</li>\n",
       "</ol>\n"
      ],
      "text/latex": [
       "\\begin{enumerate*}\n",
       "\\item 16082\n",
       "\\item 2\n",
       "\\end{enumerate*}\n"
      ],
      "text/markdown": [
       "1. 16082\n",
       "2. 2\n",
       "\n",
       "\n"
      ],
      "text/plain": [
       "[1] 16082     2"
      ]
     },
     "metadata": {},
     "output_type": "display_data"
    }
   ],
   "source": [
    "dim(prom.cat.z)"
   ]
  },
  {
   "cell_type": "code",
   "execution_count": 189,
   "metadata": {},
   "outputs": [],
   "source": [
    "prom.cat.z <- as.data.frame(prom.cat.z)"
   ]
  },
  {
   "cell_type": "code",
   "execution_count": 190,
   "metadata": {},
   "outputs": [],
   "source": [
    "prom.cat.z$org <- \"Maize\""
   ]
  },
  {
   "cell_type": "code",
   "execution_count": 191,
   "metadata": {},
   "outputs": [
    {
     "data": {
      "text/html": [
       "<table>\n",
       "<thead><tr><th scope=col>group</th><th scope=col>distance</th><th scope=col>org</th></tr></thead>\n",
       "<tbody>\n",
       "\t<tr><td>above1k</td><td>126679 </td><td>Maize  </td></tr>\n",
       "\t<tr><td>above1k</td><td>76194  </td><td>Maize  </td></tr>\n",
       "\t<tr><td>above1k</td><td>12148  </td><td>Maize  </td></tr>\n",
       "\t<tr><td>above1k</td><td>4837   </td><td>Maize  </td></tr>\n",
       "\t<tr><td>above1k</td><td>4339   </td><td>Maize  </td></tr>\n",
       "\t<tr><td>above1k</td><td>3640   </td><td>Maize  </td></tr>\n",
       "</tbody>\n",
       "</table>\n"
      ],
      "text/latex": [
       "\\begin{tabular}{r|lll}\n",
       " group & distance & org\\\\\n",
       "\\hline\n",
       "\t above1k & 126679  & Maize  \\\\\n",
       "\t above1k & 76194   & Maize  \\\\\n",
       "\t above1k & 12148   & Maize  \\\\\n",
       "\t above1k & 4837    & Maize  \\\\\n",
       "\t above1k & 4339    & Maize  \\\\\n",
       "\t above1k & 3640    & Maize  \\\\\n",
       "\\end{tabular}\n"
      ],
      "text/markdown": [
       "\n",
       "group | distance | org | \n",
       "|---|---|---|---|---|---|\n",
       "| above1k | 126679  | Maize   | \n",
       "| above1k | 76194   | Maize   | \n",
       "| above1k | 12148   | Maize   | \n",
       "| above1k | 4837    | Maize   | \n",
       "| above1k | 4339    | Maize   | \n",
       "| above1k | 3640    | Maize   | \n",
       "\n",
       "\n"
      ],
      "text/plain": [
       "  group   distance org  \n",
       "1 above1k 126679   Maize\n",
       "2 above1k 76194    Maize\n",
       "3 above1k 12148    Maize\n",
       "4 above1k 4837     Maize\n",
       "5 above1k 4339     Maize\n",
       "6 above1k 3640     Maize"
      ]
     },
     "metadata": {},
     "output_type": "display_data"
    }
   ],
   "source": [
    "head(prom.cat.z)"
   ]
  },
  {
   "cell_type": "code",
   "execution_count": 192,
   "metadata": {},
   "outputs": [],
   "source": [
    "above1k.z <- length(which(as.character(prom.cat.z$group)==\"above1k\"))"
   ]
  },
  {
   "cell_type": "code",
   "execution_count": 193,
   "metadata": {},
   "outputs": [],
   "source": [
    "under1k.z <- length(which(as.character(prom.cat.z$group)==\"under1k\"))"
   ]
  },
  {
   "cell_type": "code",
   "execution_count": 194,
   "metadata": {},
   "outputs": [],
   "source": [
    "under500.z <- length(which(as.character(prom.cat.z$group)==\"under500\"))"
   ]
  },
  {
   "cell_type": "code",
   "execution_count": 195,
   "metadata": {},
   "outputs": [],
   "source": [
    "under200.z <- length(which(as.character(prom.cat.z$group)==\"under200\"))"
   ]
  },
  {
   "cell_type": "code",
   "execution_count": 196,
   "metadata": {},
   "outputs": [
    {
     "data": {
      "text/html": [
       "16081"
      ],
      "text/latex": [
       "16081"
      ],
      "text/markdown": [
       "16081"
      ],
      "text/plain": [
       "[1] 16081"
      ]
     },
     "metadata": {},
     "output_type": "display_data"
    }
   ],
   "source": [
    "length(na.omit(prom.cat.z$group))"
   ]
  },
  {
   "cell_type": "code",
   "execution_count": 197,
   "metadata": {},
   "outputs": [],
   "source": [
    "prom.count.at <- matrix(NA, ncol=3, nrow=4)"
   ]
  },
  {
   "cell_type": "code",
   "execution_count": 198,
   "metadata": {},
   "outputs": [],
   "source": [
    "colnames(prom.count.at) <- c(\"group\",\"number\",\"org\")"
   ]
  },
  {
   "cell_type": "code",
   "execution_count": 199,
   "metadata": {},
   "outputs": [],
   "source": [
    "prom.count.at[,1] <- c(\"under200\", \"under500\", \"under1k\", \"above1k\")"
   ]
  },
  {
   "cell_type": "code",
   "execution_count": 200,
   "metadata": {},
   "outputs": [],
   "source": [
    "prom.count.at[,2] <- c(under200.c, under500.c, under1k.c, above1k.c)"
   ]
  },
  {
   "cell_type": "code",
   "execution_count": 201,
   "metadata": {},
   "outputs": [],
   "source": [
    "prom.count.at <- as.data.frame(prom.count.at)"
   ]
  },
  {
   "cell_type": "code",
   "execution_count": 202,
   "metadata": {},
   "outputs": [],
   "source": [
    "prom.count.at$group <- factor(prom.count.at$group, levels = prom.count.at$group[order(prom.count.at$number)])"
   ]
  },
  {
   "cell_type": "code",
   "execution_count": 203,
   "metadata": {},
   "outputs": [],
   "source": [
    "prom.count.at$org <- \"Arabidopsis\""
   ]
  },
  {
   "cell_type": "code",
   "execution_count": 204,
   "metadata": {},
   "outputs": [],
   "source": [
    "prom.count.at$number <- as.numeric(unlist(as.character(prom.count.at$number)))"
   ]
  },
  {
   "cell_type": "code",
   "execution_count": 205,
   "metadata": {},
   "outputs": [
    {
     "data": {
      "text/html": [
       "<table>\n",
       "<thead><tr><th scope=col>group</th><th scope=col>number</th><th scope=col>org</th></tr></thead>\n",
       "<tbody>\n",
       "\t<tr><td>under200   </td><td>6232       </td><td>Arabidopsis</td></tr>\n",
       "\t<tr><td>under500   </td><td> 319       </td><td>Arabidopsis</td></tr>\n",
       "\t<tr><td>under1k    </td><td> 426       </td><td>Arabidopsis</td></tr>\n",
       "\t<tr><td>above1k    </td><td>8951       </td><td>Arabidopsis</td></tr>\n",
       "</tbody>\n",
       "</table>\n"
      ],
      "text/latex": [
       "\\begin{tabular}{r|lll}\n",
       " group & number & org\\\\\n",
       "\\hline\n",
       "\t under200    & 6232        & Arabidopsis\\\\\n",
       "\t under500    &  319        & Arabidopsis\\\\\n",
       "\t under1k     &  426        & Arabidopsis\\\\\n",
       "\t above1k     & 8951        & Arabidopsis\\\\\n",
       "\\end{tabular}\n"
      ],
      "text/markdown": [
       "\n",
       "group | number | org | \n",
       "|---|---|---|---|\n",
       "| under200    | 6232        | Arabidopsis | \n",
       "| under500    |  319        | Arabidopsis | \n",
       "| under1k     |  426        | Arabidopsis | \n",
       "| above1k     | 8951        | Arabidopsis | \n",
       "\n",
       "\n"
      ],
      "text/plain": [
       "  group    number org        \n",
       "1 under200 6232   Arabidopsis\n",
       "2 under500  319   Arabidopsis\n",
       "3 under1k   426   Arabidopsis\n",
       "4 above1k  8951   Arabidopsis"
      ]
     },
     "metadata": {},
     "output_type": "display_data"
    }
   ],
   "source": [
    "head(prom.count.at)"
   ]
  },
  {
   "cell_type": "code",
   "execution_count": 206,
   "metadata": {},
   "outputs": [],
   "source": [
    "prom.count.z <- matrix(NA, ncol=3, nrow=4)"
   ]
  },
  {
   "cell_type": "code",
   "execution_count": 207,
   "metadata": {},
   "outputs": [],
   "source": [
    "colnames(prom.count.z) <- c(\"group\",\"number\",\"org\")"
   ]
  },
  {
   "cell_type": "code",
   "execution_count": 208,
   "metadata": {},
   "outputs": [],
   "source": [
    "prom.count.z[,1] <- c(\"under200\", \"under500\", \"under1k\", \"above1k\")"
   ]
  },
  {
   "cell_type": "code",
   "execution_count": 209,
   "metadata": {},
   "outputs": [],
   "source": [
    "prom.count.z[,2] <- c(under200.z, under500.z, under1k.z, above1k.z)"
   ]
  },
  {
   "cell_type": "code",
   "execution_count": 210,
   "metadata": {},
   "outputs": [],
   "source": [
    "prom.count.z <- as.data.frame(prom.count.z)"
   ]
  },
  {
   "cell_type": "code",
   "execution_count": 211,
   "metadata": {},
   "outputs": [],
   "source": [
    "prom.count.z$group <- factor(prom.count.z$group, levels = prom.count.z$group[order(prom.count.z$number)])"
   ]
  },
  {
   "cell_type": "code",
   "execution_count": 212,
   "metadata": {},
   "outputs": [],
   "source": [
    "prom.count.z$org <- \"Maize\""
   ]
  },
  {
   "cell_type": "code",
   "execution_count": 213,
   "metadata": {},
   "outputs": [],
   "source": [
    "prom.count.all <- rbind(prom.count.at, prom.count.z)"
   ]
  },
  {
   "cell_type": "code",
   "execution_count": 214,
   "metadata": {},
   "outputs": [
    {
     "data": {
      "text/html": [
       "<table>\n",
       "<thead><tr><th scope=col>group</th><th scope=col>number</th><th scope=col>org</th></tr></thead>\n",
       "<tbody>\n",
       "\t<tr><td>under200</td><td>6806    </td><td>Maize   </td></tr>\n",
       "\t<tr><td>under500</td><td>211     </td><td>Maize   </td></tr>\n",
       "\t<tr><td>under1k </td><td>140     </td><td>Maize   </td></tr>\n",
       "\t<tr><td>above1k </td><td>8924    </td><td>Maize   </td></tr>\n",
       "</tbody>\n",
       "</table>\n"
      ],
      "text/latex": [
       "\\begin{tabular}{r|lll}\n",
       " group & number & org\\\\\n",
       "\\hline\n",
       "\t under200 & 6806     & Maize   \\\\\n",
       "\t under500 & 211      & Maize   \\\\\n",
       "\t under1k  & 140      & Maize   \\\\\n",
       "\t above1k  & 8924     & Maize   \\\\\n",
       "\\end{tabular}\n"
      ],
      "text/markdown": [
       "\n",
       "group | number | org | \n",
       "|---|---|---|---|\n",
       "| under200 | 6806     | Maize    | \n",
       "| under500 | 211      | Maize    | \n",
       "| under1k  | 140      | Maize    | \n",
       "| above1k  | 8924     | Maize    | \n",
       "\n",
       "\n"
      ],
      "text/plain": [
       "  group    number org  \n",
       "1 under200 6806   Maize\n",
       "2 under500 211    Maize\n",
       "3 under1k  140    Maize\n",
       "4 above1k  8924   Maize"
      ]
     },
     "metadata": {},
     "output_type": "display_data"
    }
   ],
   "source": [
    "prom.count.z"
   ]
  },
  {
   "cell_type": "code",
   "execution_count": 215,
   "metadata": {},
   "outputs": [
    {
     "data": {
      "text/html": [
       "<ol class=list-inline>\n",
       "\t<li>under200</li>\n",
       "\t<li>under500</li>\n",
       "\t<li>under1k</li>\n",
       "\t<li>above1k</li>\n",
       "</ol>\n"
      ],
      "text/latex": [
       "\\begin{enumerate*}\n",
       "\\item under200\n",
       "\\item under500\n",
       "\\item under1k\n",
       "\\item above1k\n",
       "\\end{enumerate*}\n"
      ],
      "text/markdown": [
       "1. under200\n",
       "2. under500\n",
       "3. under1k\n",
       "4. above1k\n",
       "\n",
       "\n"
      ],
      "text/plain": [
       "[1] under200 under500 under1k  above1k \n",
       "Levels: under1k under500 under200 above1k"
      ]
     },
     "metadata": {},
     "output_type": "display_data"
    }
   ],
   "source": [
    "prom.count.z$group"
   ]
  },
  {
   "cell_type": "code",
   "execution_count": 216,
   "metadata": {},
   "outputs": [
    {
     "data": {
      "text/html": [
       "<table>\n",
       "<thead><tr><th scope=col>group</th><th scope=col>number</th><th scope=col>org</th></tr></thead>\n",
       "<tbody>\n",
       "\t<tr><td>under200   </td><td>6232       </td><td>Arabidopsis</td></tr>\n",
       "\t<tr><td>under500   </td><td>319        </td><td>Arabidopsis</td></tr>\n",
       "\t<tr><td>under1k    </td><td>426        </td><td>Arabidopsis</td></tr>\n",
       "\t<tr><td>above1k    </td><td>8951       </td><td>Arabidopsis</td></tr>\n",
       "\t<tr><td>under200   </td><td>6806       </td><td>Maize      </td></tr>\n",
       "\t<tr><td>under500   </td><td>211        </td><td>Maize      </td></tr>\n",
       "\t<tr><td>under1k    </td><td>140        </td><td>Maize      </td></tr>\n",
       "\t<tr><td>above1k    </td><td>8924       </td><td>Maize      </td></tr>\n",
       "</tbody>\n",
       "</table>\n"
      ],
      "text/latex": [
       "\\begin{tabular}{r|lll}\n",
       " group & number & org\\\\\n",
       "\\hline\n",
       "\t under200    & 6232        & Arabidopsis\\\\\n",
       "\t under500    & 319         & Arabidopsis\\\\\n",
       "\t under1k     & 426         & Arabidopsis\\\\\n",
       "\t above1k     & 8951        & Arabidopsis\\\\\n",
       "\t under200    & 6806        & Maize      \\\\\n",
       "\t under500    & 211         & Maize      \\\\\n",
       "\t under1k     & 140         & Maize      \\\\\n",
       "\t above1k     & 8924        & Maize      \\\\\n",
       "\\end{tabular}\n"
      ],
      "text/markdown": [
       "\n",
       "group | number | org | \n",
       "|---|---|---|---|---|---|---|---|\n",
       "| under200    | 6232        | Arabidopsis | \n",
       "| under500    | 319         | Arabidopsis | \n",
       "| under1k     | 426         | Arabidopsis | \n",
       "| above1k     | 8951        | Arabidopsis | \n",
       "| under200    | 6806        | Maize       | \n",
       "| under500    | 211         | Maize       | \n",
       "| under1k     | 140         | Maize       | \n",
       "| above1k     | 8924        | Maize       | \n",
       "\n",
       "\n"
      ],
      "text/plain": [
       "  group    number org        \n",
       "1 under200 6232   Arabidopsis\n",
       "2 under500 319    Arabidopsis\n",
       "3 under1k  426    Arabidopsis\n",
       "4 above1k  8951   Arabidopsis\n",
       "5 under200 6806   Maize      \n",
       "6 under500 211    Maize      \n",
       "7 under1k  140    Maize      \n",
       "8 above1k  8924   Maize      "
      ]
     },
     "metadata": {},
     "output_type": "display_data"
    }
   ],
   "source": [
    "prom.count.all"
   ]
  },
  {
   "cell_type": "code",
   "execution_count": 217,
   "metadata": {},
   "outputs": [],
   "source": [
    "prom.count.all$number <- as.numeric(unlist(as.character(prom.count.all$number)))"
   ]
  },
  {
   "cell_type": "code",
   "execution_count": 218,
   "metadata": {},
   "outputs": [
    {
     "data": {
      "text/html": [
       "<ol class=list-inline>\n",
       "\t<li>'numeric'</li>\n",
       "\t<li>'vector'</li>\n",
       "\t<li>'atomic'</li>\n",
       "\t<li>'EnumerationValue'</li>\n",
       "\t<li>'vector_OR_factor'</li>\n",
       "</ol>\n"
      ],
      "text/latex": [
       "\\begin{enumerate*}\n",
       "\\item 'numeric'\n",
       "\\item 'vector'\n",
       "\\item 'atomic'\n",
       "\\item 'EnumerationValue'\n",
       "\\item 'vector\\_OR\\_factor'\n",
       "\\end{enumerate*}\n"
      ],
      "text/markdown": [
       "1. 'numeric'\n",
       "2. 'vector'\n",
       "3. 'atomic'\n",
       "4. 'EnumerationValue'\n",
       "5. 'vector_OR_factor'\n",
       "\n",
       "\n"
      ],
      "text/plain": [
       "[1] \"numeric\"          \"vector\"           \"atomic\"           \"EnumerationValue\"\n",
       "[5] \"vector_OR_factor\""
      ]
     },
     "metadata": {},
     "output_type": "display_data"
    }
   ],
   "source": [
    "is(prom.count.all$number)"
   ]
  },
  {
   "cell_type": "code",
   "execution_count": 219,
   "metadata": {},
   "outputs": [
    {
     "data": {
      "text/html": [
       "<ol class=list-inline>\n",
       "\t<li>'Arabidopsis'</li>\n",
       "\t<li>'Arabidopsis'</li>\n",
       "\t<li>'Arabidopsis'</li>\n",
       "\t<li>'Arabidopsis'</li>\n",
       "\t<li>'Maize'</li>\n",
       "\t<li>'Maize'</li>\n",
       "\t<li>'Maize'</li>\n",
       "\t<li>'Maize'</li>\n",
       "</ol>\n"
      ],
      "text/latex": [
       "\\begin{enumerate*}\n",
       "\\item 'Arabidopsis'\n",
       "\\item 'Arabidopsis'\n",
       "\\item 'Arabidopsis'\n",
       "\\item 'Arabidopsis'\n",
       "\\item 'Maize'\n",
       "\\item 'Maize'\n",
       "\\item 'Maize'\n",
       "\\item 'Maize'\n",
       "\\end{enumerate*}\n"
      ],
      "text/markdown": [
       "1. 'Arabidopsis'\n",
       "2. 'Arabidopsis'\n",
       "3. 'Arabidopsis'\n",
       "4. 'Arabidopsis'\n",
       "5. 'Maize'\n",
       "6. 'Maize'\n",
       "7. 'Maize'\n",
       "8. 'Maize'\n",
       "\n",
       "\n"
      ],
      "text/plain": [
       "[1] \"Arabidopsis\" \"Arabidopsis\" \"Arabidopsis\" \"Arabidopsis\" \"Maize\"      \n",
       "[6] \"Maize\"       \"Maize\"       \"Maize\"      "
      ]
     },
     "metadata": {},
     "output_type": "display_data"
    }
   ],
   "source": [
    "prom.count.all$org"
   ]
  },
  {
   "cell_type": "code",
   "execution_count": 220,
   "metadata": {},
   "outputs": [],
   "source": [
    "prom.count.z$number <- as.numeric(unlist(as.character(prom.count.z$number)))"
   ]
  },
  {
   "cell_type": "code",
   "execution_count": 221,
   "metadata": {},
   "outputs": [],
   "source": [
    "c <- ggplot(prom.count.z, aes(y=number, x=org, fill=group))"
   ]
  },
  {
   "cell_type": "code",
   "execution_count": 222,
   "metadata": {},
   "outputs": [],
   "source": [
    "cc <- c + geom_bar(stat=\"identity\")                                                               "
   ]
  },
  {
   "cell_type": "code",
   "execution_count": 223,
   "metadata": {},
   "outputs": [
    {
     "data": {},
     "metadata": {},
     "output_type": "display_data"
    },
    {
     "data": {
      "image/png": "[encoded data removed]",
      "text/plain": [
       "plot without title"
      ]
     },
     "metadata": {},
     "output_type": "display_data"
    }
   ],
   "source": [
    "cc"
   ]
  },
  {
   "cell_type": "code",
   "execution_count": 224,
   "metadata": {},
   "outputs": [
    {
     "name": "stderr",
     "output_type": "stream",
     "text": [
      "Saving 6.67 x 6.67 in image\n"
     ]
    }
   ],
   "source": [
    "ggsave(file=\"ZmEST_distance_classes.png\")"
   ]
  },
  {
   "cell_type": "code",
   "execution_count": 225,
   "metadata": {},
   "outputs": [],
   "source": [
    "d <- ggplot(prom.count.all, aes(y=number, x=org, fill=group))"
   ]
  },
  {
   "cell_type": "code",
   "execution_count": 226,
   "metadata": {},
   "outputs": [],
   "source": [
    "dd <- d + geom_bar(stat=\"identity\")                                                               "
   ]
  },
  {
   "cell_type": "code",
   "execution_count": 227,
   "metadata": {},
   "outputs": [
    {
     "data": {},
     "metadata": {},
     "output_type": "display_data"
    },
    {
     "data": {
      "image/png": "[encoded data removed]",
      "text/plain": [
       "plot without title"
      ]
     },
     "metadata": {},
     "output_type": "display_data"
    }
   ],
   "source": [
    "dd"
   ]
  },
  {
   "cell_type": "code",
   "execution_count": 228,
   "metadata": {},
   "outputs": [
    {
     "name": "stderr",
     "output_type": "stream",
     "text": [
      "Saving 6.67 x 6.67 in image\n"
     ]
    }
   ],
   "source": [
    "ggsave(file=\"EST_distance_classes_combined.png\")"
   ]
  }
 ],
 "metadata": {
  "kernelspec": {
   "display_name": "R",
   "language": "R",
   "name": "ir"
  },
  "language_info": {
   "codemirror_mode": "r",
   "file_extension": ".r",
   "mimetype": "text/x-r-source",
   "name": "R",
   "pygments_lexer": "r",
   "version": "3.4.1"
  }
 },
 "nbformat": 4,
 "nbformat_minor": 2
}
