{
 "cells": [
  {
   "cell_type": "markdown",
   "metadata": {},
   "source": [
    "### Plotting the distribution of Maize datasets relative to annotated TSSs"
   ]
  },
  {
   "cell_type": "code",
   "execution_count": 92,
   "metadata": {},
   "outputs": [],
   "source": [
    "library(ggplot2)"
   ]
  },
  {
   "cell_type": "code",
   "execution_count": 93,
   "metadata": {},
   "outputs": [],
   "source": [
    "library(reshape2)"
   ]
  },
  {
   "cell_type": "code",
   "execution_count": 94,
   "metadata": {},
   "outputs": [],
   "source": [
    "setwd(\"/scratch/rtraborn/tsrchitect-figures/figures/\")"
   ]
  },
  {
   "cell_type": "code",
   "execution_count": 95,
   "metadata": {},
   "outputs": [],
   "source": [
    "coverage.out <- read.table(file=\"/scratch/rtraborn/tsrchitect-figures/output_files/Zm_coverage_hist_all_v_tss_annot.txt\", skip=1, header=FALSE)"
   ]
  },
  {
   "cell_type": "code",
   "execution_count": 96,
   "metadata": {},
   "outputs": [
    {
     "data": {
      "text/html": [
       "<table>\n",
       "<thead><tr><th scope=col>V1</th><th scope=col>V2</th><th scope=col>V3</th><th scope=col>V4</th><th scope=col>V5</th><th scope=col>V6</th><th scope=col>V7</th><th scope=col>V8</th><th scope=col>V9</th><th scope=col>V10</th></tr></thead>\n",
       "<tbody>\n",
       "\t<tr><td>-300       </td><td>14.87320   </td><td>0.04534956 </td><td>0.04525831 </td><td>1.329192   </td><td>0.008199911</td><td>0.003301316</td><td>1.479455   </td><td>0.007973432</td><td>0.001932929</td></tr>\n",
       "\t<tr><td>-290       </td><td>15.18604   </td><td>0.04649014 </td><td>0.04347900 </td><td>1.351431   </td><td>0.017152516</td><td>0.002264840</td><td>1.365666   </td><td>0.013875584</td><td>0.003446832</td></tr>\n",
       "\t<tr><td>-280       </td><td>15.50540   </td><td>0.04270341 </td><td>0.04384399 </td><td>1.346598   </td><td>0.005436427</td><td>0.003188479</td><td>1.343592   </td><td>0.005514930</td><td>0.003013493</td></tr>\n",
       "\t<tr><td>-270       </td><td>15.27403   </td><td>0.04398086 </td><td>0.04279465 </td><td>1.338047   </td><td>0.006106015</td><td>0.001573632</td><td>1.350642   </td><td>0.010563922</td><td>0.001442342</td></tr>\n",
       "\t<tr><td>-260       </td><td>15.31639   </td><td>0.04680950 </td><td>0.04845194 </td><td>1.347236   </td><td>0.011370822</td><td>0.001641198</td><td>1.366553   </td><td>0.017907622</td><td>0.001529010</td></tr>\n",
       "\t<tr><td>-250       </td><td>15.72374   </td><td>0.04649014 </td><td>0.04028537 </td><td>1.349895   </td><td>0.004427655</td><td>0.001847277</td><td>1.366429   </td><td>0.004776267</td><td>0.001983817</td></tr>\n",
       "</tbody>\n",
       "</table>\n"
      ],
      "text/latex": [
       "\\begin{tabular}{r|llllllllll}\n",
       " V1 & V2 & V3 & V4 & V5 & V6 & V7 & V8 & V9 & V10\\\\\n",
       "\\hline\n",
       "\t -300        & 14.87320    & 0.04534956  & 0.04525831  & 1.329192    & 0.008199911 & 0.003301316 & 1.479455    & 0.007973432 & 0.001932929\\\\\n",
       "\t -290        & 15.18604    & 0.04649014  & 0.04347900  & 1.351431    & 0.017152516 & 0.002264840 & 1.365666    & 0.013875584 & 0.003446832\\\\\n",
       "\t -280        & 15.50540    & 0.04270341  & 0.04384399  & 1.346598    & 0.005436427 & 0.003188479 & 1.343592    & 0.005514930 & 0.003013493\\\\\n",
       "\t -270        & 15.27403    & 0.04398086  & 0.04279465  & 1.338047    & 0.006106015 & 0.001573632 & 1.350642    & 0.010563922 & 0.001442342\\\\\n",
       "\t -260        & 15.31639    & 0.04680950  & 0.04845194  & 1.347236    & 0.011370822 & 0.001641198 & 1.366553    & 0.017907622 & 0.001529010\\\\\n",
       "\t -250        & 15.72374    & 0.04649014  & 0.04028537  & 1.349895    & 0.004427655 & 0.001847277 & 1.366429    & 0.004776267 & 0.001983817\\\\\n",
       "\\end{tabular}\n"
      ],
      "text/markdown": [
       "\n",
       "V1 | V2 | V3 | V4 | V5 | V6 | V7 | V8 | V9 | V10 | \n",
       "|---|---|---|---|---|---|\n",
       "| -300        | 14.87320    | 0.04534956  | 0.04525831  | 1.329192    | 0.008199911 | 0.003301316 | 1.479455    | 0.007973432 | 0.001932929 | \n",
       "| -290        | 15.18604    | 0.04649014  | 0.04347900  | 1.351431    | 0.017152516 | 0.002264840 | 1.365666    | 0.013875584 | 0.003446832 | \n",
       "| -280        | 15.50540    | 0.04270341  | 0.04384399  | 1.346598    | 0.005436427 | 0.003188479 | 1.343592    | 0.005514930 | 0.003013493 | \n",
       "| -270        | 15.27403    | 0.04398086  | 0.04279465  | 1.338047    | 0.006106015 | 0.001573632 | 1.350642    | 0.010563922 | 0.001442342 | \n",
       "| -260        | 15.31639    | 0.04680950  | 0.04845194  | 1.347236    | 0.011370822 | 0.001641198 | 1.366553    | 0.017907622 | 0.001529010 | \n",
       "| -250        | 15.72374    | 0.04649014  | 0.04028537  | 1.349895    | 0.004427655 | 0.001847277 | 1.366429    | 0.004776267 | 0.001983817 | \n",
       "\n",
       "\n"
      ],
      "text/plain": [
       "  V1   V2       V3         V4         V5       V6          V7          V8      \n",
       "1 -300 14.87320 0.04534956 0.04525831 1.329192 0.008199911 0.003301316 1.479455\n",
       "2 -290 15.18604 0.04649014 0.04347900 1.351431 0.017152516 0.002264840 1.365666\n",
       "3 -280 15.50540 0.04270341 0.04384399 1.346598 0.005436427 0.003188479 1.343592\n",
       "4 -270 15.27403 0.04398086 0.04279465 1.338047 0.006106015 0.001573632 1.350642\n",
       "5 -260 15.31639 0.04680950 0.04845194 1.347236 0.011370822 0.001641198 1.366553\n",
       "6 -250 15.72374 0.04649014 0.04028537 1.349895 0.004427655 0.001847277 1.366429\n",
       "  V9          V10        \n",
       "1 0.007973432 0.001932929\n",
       "2 0.013875584 0.003446832\n",
       "3 0.005514930 0.003013493\n",
       "4 0.010563922 0.001442342\n",
       "5 0.017907622 0.001529010\n",
       "6 0.004776267 0.001983817"
      ]
     },
     "metadata": {},
     "output_type": "display_data"
    }
   ],
   "source": [
    "head(coverage.out)"
   ]
  },
  {
   "cell_type": "code",
   "execution_count": 97,
   "metadata": {},
   "outputs": [],
   "source": [
    "colnames(coverage.out) <- c(\"Distance\",\"ESTcoverage\",\"EST_plusTags\",\"EST_minusTags\",\"CAGE1coverage\",\"CAGE1_plusTags\",\"CAGE1_minusTags\",\"CAGE2coverage\",\"CAGE2_plusTags\",\"CAGE2_minusTags\")"
   ]
  },
  {
   "cell_type": "code",
   "execution_count": 98,
   "metadata": {},
   "outputs": [
    {
     "data": {
      "text/html": [
       "<table>\n",
       "<thead><tr><th scope=col>Distance</th><th scope=col>ESTcoverage</th><th scope=col>EST_plusTags</th><th scope=col>EST_minusTags</th><th scope=col>CAGE1coverage</th><th scope=col>CAGE1_plusTags</th><th scope=col>CAGE1_minusTags</th><th scope=col>CAGE2coverage</th><th scope=col>CAGE2_plusTags</th><th scope=col>CAGE2_minusTags</th></tr></thead>\n",
       "<tbody>\n",
       "\t<tr><td>-300       </td><td>14.87320   </td><td>0.04534956 </td><td>0.04525831 </td><td>1.329192   </td><td>0.008199911</td><td>0.003301316</td><td>1.479455   </td><td>0.007973432</td><td>0.001932929</td></tr>\n",
       "\t<tr><td>-290       </td><td>15.18604   </td><td>0.04649014 </td><td>0.04347900 </td><td>1.351431   </td><td>0.017152516</td><td>0.002264840</td><td>1.365666   </td><td>0.013875584</td><td>0.003446832</td></tr>\n",
       "\t<tr><td>-280       </td><td>15.50540   </td><td>0.04270341 </td><td>0.04384399 </td><td>1.346598   </td><td>0.005436427</td><td>0.003188479</td><td>1.343592   </td><td>0.005514930</td><td>0.003013493</td></tr>\n",
       "\t<tr><td>-270       </td><td>15.27403   </td><td>0.04398086 </td><td>0.04279465 </td><td>1.338047   </td><td>0.006106015</td><td>0.001573632</td><td>1.350642   </td><td>0.010563922</td><td>0.001442342</td></tr>\n",
       "\t<tr><td>-260       </td><td>15.31639   </td><td>0.04680950 </td><td>0.04845194 </td><td>1.347236   </td><td>0.011370822</td><td>0.001641198</td><td>1.366553   </td><td>0.017907622</td><td>0.001529010</td></tr>\n",
       "\t<tr><td>-250       </td><td>15.72374   </td><td>0.04649014 </td><td>0.04028537 </td><td>1.349895   </td><td>0.004427655</td><td>0.001847277</td><td>1.366429   </td><td>0.004776267</td><td>0.001983817</td></tr>\n",
       "</tbody>\n",
       "</table>\n"
      ],
      "text/latex": [
       "\\begin{tabular}{r|llllllllll}\n",
       " Distance & ESTcoverage & EST\\_plusTags & EST\\_minusTags & CAGE1coverage & CAGE1\\_plusTags & CAGE1\\_minusTags & CAGE2coverage & CAGE2\\_plusTags & CAGE2\\_minusTags\\\\\n",
       "\\hline\n",
       "\t -300        & 14.87320    & 0.04534956  & 0.04525831  & 1.329192    & 0.008199911 & 0.003301316 & 1.479455    & 0.007973432 & 0.001932929\\\\\n",
       "\t -290        & 15.18604    & 0.04649014  & 0.04347900  & 1.351431    & 0.017152516 & 0.002264840 & 1.365666    & 0.013875584 & 0.003446832\\\\\n",
       "\t -280        & 15.50540    & 0.04270341  & 0.04384399  & 1.346598    & 0.005436427 & 0.003188479 & 1.343592    & 0.005514930 & 0.003013493\\\\\n",
       "\t -270        & 15.27403    & 0.04398086  & 0.04279465  & 1.338047    & 0.006106015 & 0.001573632 & 1.350642    & 0.010563922 & 0.001442342\\\\\n",
       "\t -260        & 15.31639    & 0.04680950  & 0.04845194  & 1.347236    & 0.011370822 & 0.001641198 & 1.366553    & 0.017907622 & 0.001529010\\\\\n",
       "\t -250        & 15.72374    & 0.04649014  & 0.04028537  & 1.349895    & 0.004427655 & 0.001847277 & 1.366429    & 0.004776267 & 0.001983817\\\\\n",
       "\\end{tabular}\n"
      ],
      "text/markdown": [
       "\n",
       "Distance | ESTcoverage | EST_plusTags | EST_minusTags | CAGE1coverage | CAGE1_plusTags | CAGE1_minusTags | CAGE2coverage | CAGE2_plusTags | CAGE2_minusTags | \n",
       "|---|---|---|---|---|---|\n",
       "| -300        | 14.87320    | 0.04534956  | 0.04525831  | 1.329192    | 0.008199911 | 0.003301316 | 1.479455    | 0.007973432 | 0.001932929 | \n",
       "| -290        | 15.18604    | 0.04649014  | 0.04347900  | 1.351431    | 0.017152516 | 0.002264840 | 1.365666    | 0.013875584 | 0.003446832 | \n",
       "| -280        | 15.50540    | 0.04270341  | 0.04384399  | 1.346598    | 0.005436427 | 0.003188479 | 1.343592    | 0.005514930 | 0.003013493 | \n",
       "| -270        | 15.27403    | 0.04398086  | 0.04279465  | 1.338047    | 0.006106015 | 0.001573632 | 1.350642    | 0.010563922 | 0.001442342 | \n",
       "| -260        | 15.31639    | 0.04680950  | 0.04845194  | 1.347236    | 0.011370822 | 0.001641198 | 1.366553    | 0.017907622 | 0.001529010 | \n",
       "| -250        | 15.72374    | 0.04649014  | 0.04028537  | 1.349895    | 0.004427655 | 0.001847277 | 1.366429    | 0.004776267 | 0.001983817 | \n",
       "\n",
       "\n"
      ],
      "text/plain": [
       "  Distance ESTcoverage EST_plusTags EST_minusTags CAGE1coverage CAGE1_plusTags\n",
       "1 -300     14.87320    0.04534956   0.04525831    1.329192      0.008199911   \n",
       "2 -290     15.18604    0.04649014   0.04347900    1.351431      0.017152516   \n",
       "3 -280     15.50540    0.04270341   0.04384399    1.346598      0.005436427   \n",
       "4 -270     15.27403    0.04398086   0.04279465    1.338047      0.006106015   \n",
       "5 -260     15.31639    0.04680950   0.04845194    1.347236      0.011370822   \n",
       "6 -250     15.72374    0.04649014   0.04028537    1.349895      0.004427655   \n",
       "  CAGE1_minusTags CAGE2coverage CAGE2_plusTags CAGE2_minusTags\n",
       "1 0.003301316     1.479455      0.007973432    0.001932929    \n",
       "2 0.002264840     1.365666      0.013875584    0.003446832    \n",
       "3 0.003188479     1.343592      0.005514930    0.003013493    \n",
       "4 0.001573632     1.350642      0.010563922    0.001442342    \n",
       "5 0.001641198     1.366553      0.017907622    0.001529010    \n",
       "6 0.001847277     1.366429      0.004776267    0.001983817    "
      ]
     },
     "metadata": {},
     "output_type": "display_data"
    }
   ],
   "source": [
    "head(coverage.out)"
   ]
  },
  {
   "cell_type": "code",
   "execution_count": 99,
   "metadata": {},
   "outputs": [],
   "source": [
    "coverage.table <- cbind(coverage.out[,1:2],coverage.out[,5],coverage.out[,8])"
   ]
  },
  {
   "cell_type": "code",
   "execution_count": 100,
   "metadata": {},
   "outputs": [],
   "source": [
    "colnames(coverage.table) <- c(\"Distance\",\"ESTcoverage\",\"CAGEcoverage-rep1\", \"CAGEcoverage-rep2\")"
   ]
  },
  {
   "cell_type": "code",
   "execution_count": 101,
   "metadata": {},
   "outputs": [
    {
     "data": {
      "text/html": [
       "<table>\n",
       "<thead><tr><th scope=col>Distance</th><th scope=col>ESTcoverage</th><th scope=col>CAGEcoverage-rep1</th><th scope=col>CAGEcoverage-rep2</th></tr></thead>\n",
       "<tbody>\n",
       "\t<tr><td>-300    </td><td>14.87320</td><td>1.329192</td><td>1.479455</td></tr>\n",
       "\t<tr><td>-290    </td><td>15.18604</td><td>1.351431</td><td>1.365666</td></tr>\n",
       "\t<tr><td>-280    </td><td>15.50540</td><td>1.346598</td><td>1.343592</td></tr>\n",
       "\t<tr><td>-270    </td><td>15.27403</td><td>1.338047</td><td>1.350642</td></tr>\n",
       "\t<tr><td>-260    </td><td>15.31639</td><td>1.347236</td><td>1.366553</td></tr>\n",
       "\t<tr><td>-250    </td><td>15.72374</td><td>1.349895</td><td>1.366429</td></tr>\n",
       "</tbody>\n",
       "</table>\n"
      ],
      "text/latex": [
       "\\begin{tabular}{r|llll}\n",
       " Distance & ESTcoverage & CAGEcoverage-rep1 & CAGEcoverage-rep2\\\\\n",
       "\\hline\n",
       "\t -300     & 14.87320 & 1.329192 & 1.479455\\\\\n",
       "\t -290     & 15.18604 & 1.351431 & 1.365666\\\\\n",
       "\t -280     & 15.50540 & 1.346598 & 1.343592\\\\\n",
       "\t -270     & 15.27403 & 1.338047 & 1.350642\\\\\n",
       "\t -260     & 15.31639 & 1.347236 & 1.366553\\\\\n",
       "\t -250     & 15.72374 & 1.349895 & 1.366429\\\\\n",
       "\\end{tabular}\n"
      ],
      "text/markdown": [
       "\n",
       "Distance | ESTcoverage | CAGEcoverage-rep1 | CAGEcoverage-rep2 | \n",
       "|---|---|---|---|---|---|\n",
       "| -300     | 14.87320 | 1.329192 | 1.479455 | \n",
       "| -290     | 15.18604 | 1.351431 | 1.365666 | \n",
       "| -280     | 15.50540 | 1.346598 | 1.343592 | \n",
       "| -270     | 15.27403 | 1.338047 | 1.350642 | \n",
       "| -260     | 15.31639 | 1.347236 | 1.366553 | \n",
       "| -250     | 15.72374 | 1.349895 | 1.366429 | \n",
       "\n",
       "\n"
      ],
      "text/plain": [
       "  Distance ESTcoverage CAGEcoverage-rep1 CAGEcoverage-rep2\n",
       "1 -300     14.87320    1.329192          1.479455         \n",
       "2 -290     15.18604    1.351431          1.365666         \n",
       "3 -280     15.50540    1.346598          1.343592         \n",
       "4 -270     15.27403    1.338047          1.350642         \n",
       "5 -260     15.31639    1.347236          1.366553         \n",
       "6 -250     15.72374    1.349895          1.366429         "
      ]
     },
     "metadata": {},
     "output_type": "display_data"
    }
   ],
   "source": [
    "head(coverage.table)"
   ]
  },
  {
   "cell_type": "code",
   "execution_count": 102,
   "metadata": {},
   "outputs": [],
   "source": [
    "coverage.rs <- melt(coverage.table,id.vars = \"Distance\")"
   ]
  },
  {
   "cell_type": "code",
   "execution_count": 103,
   "metadata": {},
   "outputs": [],
   "source": [
    "colnames(coverage.rs) <- c(\"Distance\",\"dataset\", \"density\")"
   ]
  },
  {
   "cell_type": "code",
   "execution_count": 104,
   "metadata": {},
   "outputs": [
    {
     "data": {
      "text/html": [
       "<table>\n",
       "<thead><tr><th scope=col>Distance</th><th scope=col>dataset</th><th scope=col>density</th></tr></thead>\n",
       "<tbody>\n",
       "\t<tr><td>-300       </td><td>ESTcoverage</td><td>14.87320   </td></tr>\n",
       "\t<tr><td>-290       </td><td>ESTcoverage</td><td>15.18604   </td></tr>\n",
       "\t<tr><td>-280       </td><td>ESTcoverage</td><td>15.50540   </td></tr>\n",
       "\t<tr><td>-270       </td><td>ESTcoverage</td><td>15.27403   </td></tr>\n",
       "\t<tr><td>-260       </td><td>ESTcoverage</td><td>15.31639   </td></tr>\n",
       "\t<tr><td>-250       </td><td>ESTcoverage</td><td>15.72374   </td></tr>\n",
       "</tbody>\n",
       "</table>\n"
      ],
      "text/latex": [
       "\\begin{tabular}{r|lll}\n",
       " Distance & dataset & density\\\\\n",
       "\\hline\n",
       "\t -300        & ESTcoverage & 14.87320   \\\\\n",
       "\t -290        & ESTcoverage & 15.18604   \\\\\n",
       "\t -280        & ESTcoverage & 15.50540   \\\\\n",
       "\t -270        & ESTcoverage & 15.27403   \\\\\n",
       "\t -260        & ESTcoverage & 15.31639   \\\\\n",
       "\t -250        & ESTcoverage & 15.72374   \\\\\n",
       "\\end{tabular}\n"
      ],
      "text/markdown": [
       "\n",
       "Distance | dataset | density | \n",
       "|---|---|---|---|---|---|\n",
       "| -300        | ESTcoverage | 14.87320    | \n",
       "| -290        | ESTcoverage | 15.18604    | \n",
       "| -280        | ESTcoverage | 15.50540    | \n",
       "| -270        | ESTcoverage | 15.27403    | \n",
       "| -260        | ESTcoverage | 15.31639    | \n",
       "| -250        | ESTcoverage | 15.72374    | \n",
       "\n",
       "\n"
      ],
      "text/plain": [
       "  Distance dataset     density \n",
       "1 -300     ESTcoverage 14.87320\n",
       "2 -290     ESTcoverage 15.18604\n",
       "3 -280     ESTcoverage 15.50540\n",
       "4 -270     ESTcoverage 15.27403\n",
       "5 -260     ESTcoverage 15.31639\n",
       "6 -250     ESTcoverage 15.72374"
      ]
     },
     "metadata": {},
     "output_type": "display_data"
    }
   ],
   "source": [
    "head(coverage.rs)"
   ]
  },
  {
   "cell_type": "code",
   "execution_count": 105,
   "metadata": {},
   "outputs": [],
   "source": [
    "a <- ggplot(coverage.rs)"
   ]
  },
  {
   "cell_type": "code",
   "execution_count": 107,
   "metadata": {},
   "outputs": [
    {
     "data": {},
     "metadata": {},
     "output_type": "display_data"
    },
    {
     "data": {
      "image/png": "[encoded data removed]",
      "text/plain": [
       "plot without title"
      ]
     },
     "metadata": {},
     "output_type": "display_data"
    }
   ],
   "source": [
    "a + geom_line(aes(x=Distance, y=density, colour=dataset))"
   ]
  },
  {
   "cell_type": "code",
   "execution_count": 108,
   "metadata": {},
   "outputs": [
    {
     "name": "stderr",
     "output_type": "stream",
     "text": [
      "Saving 6.67 x 6.67 in image\n"
     ]
    }
   ],
   "source": [
    "ggsave(file=\"Zm_peaks_v_annotated_genes.png\")"
   ]
  }
 ],
 "metadata": {
  "kernelspec": {
   "display_name": "R",
   "language": "R",
   "name": "ir"
  },
  "language_info": {
   "codemirror_mode": "r",
   "file_extension": ".r",
   "mimetype": "text/x-r-source",
   "name": "R",
   "pygments_lexer": "r",
   "version": "3.4.1"
  }
 },
 "nbformat": 4,
 "nbformat_minor": 2
}
